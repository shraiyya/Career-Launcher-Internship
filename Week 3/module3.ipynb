{
  "nbformat": 4,
  "nbformat_minor": 0,
  "metadata": {
    "colab": {
      "name": "module3.ipynb",
      "provenance": [],
      "collapsed_sections": [],
      "toc_visible": true
    },
    "kernelspec": {
      "name": "python3",
      "display_name": "Python 3"
    }
  },
  "cells": [
    {
      "cell_type": "markdown",
      "metadata": {
        "id": "s_QA7t6geugY",
        "colab_type": "text"
      },
      "source": [
        "## **MODULE 3: Fundamental analysis using Regression**"
      ]
    },
    {
      "cell_type": "markdown",
      "metadata": {
        "id": "lGmdwd1nfJQv",
        "colab_type": "text"
      },
      "source": [
        "###***3.1***"
      ]
    },
    {
      "cell_type": "code",
      "metadata": {
        "id": "UDFvL6GoeAwM",
        "colab_type": "code",
        "colab": {
          "base_uri": "https://localhost:8080/",
          "height": 198
        },
        "outputId": "d8f05dd8-a2eb-4df6-f885-07d31320a79a"
      },
      "source": [
        "# Import pandas library\n",
        "import pandas as pd\n",
        "import numpy as np\n",
        "import matplotlib.pyplot as plt\n",
        "\n",
        "df = pd.read_csv('/content/GOLD.csv') #data of the last 2 years price action of Indian (MCX) gold standard.\n",
        "df.head(5)"
      ],
      "execution_count": null,
      "outputs": [
        {
          "output_type": "execute_result",
          "data": {
            "text/html": [
              "<div>\n",
              "<style scoped>\n",
              "    .dataframe tbody tr th:only-of-type {\n",
              "        vertical-align: middle;\n",
              "    }\n",
              "\n",
              "    .dataframe tbody tr th {\n",
              "        vertical-align: top;\n",
              "    }\n",
              "\n",
              "    .dataframe thead th {\n",
              "        text-align: right;\n",
              "    }\n",
              "</style>\n",
              "<table border=\"1\" class=\"dataframe\">\n",
              "  <thead>\n",
              "    <tr style=\"text-align: right;\">\n",
              "      <th></th>\n",
              "      <th>Date</th>\n",
              "      <th>Price</th>\n",
              "      <th>Open</th>\n",
              "      <th>High</th>\n",
              "      <th>Low</th>\n",
              "      <th>Vol.</th>\n",
              "      <th>Change %</th>\n",
              "      <th>Pred</th>\n",
              "      <th>new</th>\n",
              "    </tr>\n",
              "  </thead>\n",
              "  <tbody>\n",
              "    <tr>\n",
              "      <th>0</th>\n",
              "      <td>4-May-17</td>\n",
              "      <td>28060</td>\n",
              "      <td>28400</td>\n",
              "      <td>28482</td>\n",
              "      <td>28025</td>\n",
              "      <td>0.08K</td>\n",
              "      <td>-1.79%</td>\n",
              "      <td>738.0</td>\n",
              "      <td>117.570740</td>\n",
              "    </tr>\n",
              "    <tr>\n",
              "      <th>1</th>\n",
              "      <td>5-May-17</td>\n",
              "      <td>28184</td>\n",
              "      <td>28136</td>\n",
              "      <td>28382</td>\n",
              "      <td>28135</td>\n",
              "      <td>0.06K</td>\n",
              "      <td>0.44%</td>\n",
              "      <td>-146.0</td>\n",
              "      <td>295.430176</td>\n",
              "    </tr>\n",
              "    <tr>\n",
              "      <th>2</th>\n",
              "      <td>8-May-17</td>\n",
              "      <td>28119</td>\n",
              "      <td>28145</td>\n",
              "      <td>28255</td>\n",
              "      <td>28097</td>\n",
              "      <td>7.85K</td>\n",
              "      <td>-0.23%</td>\n",
              "      <td>30.0</td>\n",
              "      <td>132.123714</td>\n",
              "    </tr>\n",
              "    <tr>\n",
              "      <th>3</th>\n",
              "      <td>9-May-17</td>\n",
              "      <td>27981</td>\n",
              "      <td>28125</td>\n",
              "      <td>28192</td>\n",
              "      <td>27947</td>\n",
              "      <td>10.10K</td>\n",
              "      <td>-0.49%</td>\n",
              "      <td>357.0</td>\n",
              "      <td>101.298064</td>\n",
              "    </tr>\n",
              "    <tr>\n",
              "      <th>4</th>\n",
              "      <td>10-May-17</td>\n",
              "      <td>28007</td>\n",
              "      <td>28060</td>\n",
              "      <td>28146</td>\n",
              "      <td>27981</td>\n",
              "      <td>9.28K</td>\n",
              "      <td>0.09%</td>\n",
              "      <td>124.0</td>\n",
              "      <td>112.153318</td>\n",
              "    </tr>\n",
              "  </tbody>\n",
              "</table>\n",
              "</div>"
            ],
            "text/plain": [
              "        Date  Price   Open   High    Low    Vol. Change %   Pred         new\n",
              "0   4-May-17  28060  28400  28482  28025   0.08K   -1.79%  738.0  117.570740\n",
              "1   5-May-17  28184  28136  28382  28135   0.06K    0.44% -146.0  295.430176\n",
              "2   8-May-17  28119  28145  28255  28097   7.85K   -0.23%   30.0  132.123714\n",
              "3   9-May-17  27981  28125  28192  27947  10.10K   -0.49%  357.0  101.298064\n",
              "4  10-May-17  28007  28060  28146  27981   9.28K    0.09%  124.0  112.153318"
            ]
          },
          "metadata": {
            "tags": []
          },
          "execution_count": 154
        }
      ]
    },
    {
      "cell_type": "code",
      "metadata": {
        "id": "pm_BSf_1fWSX",
        "colab_type": "code",
        "colab": {
          "base_uri": "https://localhost:8080/",
          "height": 198
        },
        "outputId": "53142439-863c-48f9-e08b-7d143702a557"
      },
      "source": [
        "df.tail(5) #EXPLORATION OF DATASET"
      ],
      "execution_count": null,
      "outputs": [
        {
          "output_type": "execute_result",
          "data": {
            "text/html": [
              "<div>\n",
              "<style scoped>\n",
              "    .dataframe tbody tr th:only-of-type {\n",
              "        vertical-align: middle;\n",
              "    }\n",
              "\n",
              "    .dataframe tbody tr th {\n",
              "        vertical-align: top;\n",
              "    }\n",
              "\n",
              "    .dataframe thead th {\n",
              "        text-align: right;\n",
              "    }\n",
              "</style>\n",
              "<table border=\"1\" class=\"dataframe\">\n",
              "  <thead>\n",
              "    <tr style=\"text-align: right;\">\n",
              "      <th></th>\n",
              "      <th>Date</th>\n",
              "      <th>Price</th>\n",
              "      <th>Open</th>\n",
              "      <th>High</th>\n",
              "      <th>Low</th>\n",
              "      <th>Vol.</th>\n",
              "      <th>Change %</th>\n",
              "      <th>Pred</th>\n",
              "      <th>new</th>\n",
              "    </tr>\n",
              "  </thead>\n",
              "  <tbody>\n",
              "    <tr>\n",
              "      <th>507</th>\n",
              "      <td>26-Apr-19</td>\n",
              "      <td>31868</td>\n",
              "      <td>31851</td>\n",
              "      <td>31934</td>\n",
              "      <td>31705</td>\n",
              "      <td>9.67K</td>\n",
              "      <td>0.08%</td>\n",
              "      <td>NaN</td>\n",
              "      <td>247.177322</td>\n",
              "    </tr>\n",
              "    <tr>\n",
              "      <th>508</th>\n",
              "      <td>30-Apr-19</td>\n",
              "      <td>31625</td>\n",
              "      <td>31800</td>\n",
              "      <td>31824</td>\n",
              "      <td>31597</td>\n",
              "      <td>6.44K</td>\n",
              "      <td>-0.76%</td>\n",
              "      <td>NaN</td>\n",
              "      <td>52.201158</td>\n",
              "    </tr>\n",
              "    <tr>\n",
              "      <th>509</th>\n",
              "      <td>1-May-19</td>\n",
              "      <td>31563</td>\n",
              "      <td>31604</td>\n",
              "      <td>31657</td>\n",
              "      <td>31503</td>\n",
              "      <td>1.55K</td>\n",
              "      <td>-0.20%</td>\n",
              "      <td>NaN</td>\n",
              "      <td>113.293305</td>\n",
              "    </tr>\n",
              "    <tr>\n",
              "      <th>510</th>\n",
              "      <td>2-May-19</td>\n",
              "      <td>31203</td>\n",
              "      <td>31420</td>\n",
              "      <td>31425</td>\n",
              "      <td>31160</td>\n",
              "      <td>0.48K</td>\n",
              "      <td>-1.14%</td>\n",
              "      <td>NaN</td>\n",
              "      <td>48.365693</td>\n",
              "    </tr>\n",
              "    <tr>\n",
              "      <th>511</th>\n",
              "      <td>3-May-19</td>\n",
              "      <td>31341</td>\n",
              "      <td>31250</td>\n",
              "      <td>31500</td>\n",
              "      <td>31163</td>\n",
              "      <td>0.08K</td>\n",
              "      <td>0.44%</td>\n",
              "      <td>NaN</td>\n",
              "      <td>429.924911</td>\n",
              "    </tr>\n",
              "  </tbody>\n",
              "</table>\n",
              "</div>"
            ],
            "text/plain": [
              "          Date  Price   Open   High    Low   Vol. Change %  Pred         new\n",
              "507  26-Apr-19  31868  31851  31934  31705  9.67K    0.08%   NaN  247.177322\n",
              "508  30-Apr-19  31625  31800  31824  31597  6.44K   -0.76%   NaN   52.201158\n",
              "509   1-May-19  31563  31604  31657  31503  1.55K   -0.20%   NaN  113.293305\n",
              "510   2-May-19  31203  31420  31425  31160  0.48K   -1.14%   NaN   48.365693\n",
              "511   3-May-19  31341  31250  31500  31163  0.08K    0.44%   NaN  429.924911"
            ]
          },
          "metadata": {
            "tags": []
          },
          "execution_count": 155
        }
      ]
    },
    {
      "cell_type": "code",
      "metadata": {
        "id": "FxZ0RO38fZYG",
        "colab_type": "code",
        "colab": {
          "base_uri": "https://localhost:8080/",
          "height": 288
        },
        "outputId": "b23b5078-e4e6-4dc3-b482-8d52d0badd1d"
      },
      "source": [
        "df.describe() #EXPLORATION OF DATASET"
      ],
      "execution_count": null,
      "outputs": [
        {
          "output_type": "execute_result",
          "data": {
            "text/html": [
              "<div>\n",
              "<style scoped>\n",
              "    .dataframe tbody tr th:only-of-type {\n",
              "        vertical-align: middle;\n",
              "    }\n",
              "\n",
              "    .dataframe tbody tr th {\n",
              "        vertical-align: top;\n",
              "    }\n",
              "\n",
              "    .dataframe thead th {\n",
              "        text-align: right;\n",
              "    }\n",
              "</style>\n",
              "<table border=\"1\" class=\"dataframe\">\n",
              "  <thead>\n",
              "    <tr style=\"text-align: right;\">\n",
              "      <th></th>\n",
              "      <th>Price</th>\n",
              "      <th>Open</th>\n",
              "      <th>High</th>\n",
              "      <th>Low</th>\n",
              "      <th>Pred</th>\n",
              "      <th>new</th>\n",
              "    </tr>\n",
              "  </thead>\n",
              "  <tbody>\n",
              "    <tr>\n",
              "      <th>count</th>\n",
              "      <td>512.000000</td>\n",
              "      <td>512.000000</td>\n",
              "      <td>512.000000</td>\n",
              "      <td>512.000000</td>\n",
              "      <td>411.000000</td>\n",
              "      <td>512.000000</td>\n",
              "    </tr>\n",
              "    <tr>\n",
              "      <th>mean</th>\n",
              "      <td>30364.583984</td>\n",
              "      <td>30368.412109</td>\n",
              "      <td>30491.089844</td>\n",
              "      <td>30243.320312</td>\n",
              "      <td>341.712895</td>\n",
              "      <td>245.161859</td>\n",
              "    </tr>\n",
              "    <tr>\n",
              "      <th>std</th>\n",
              "      <td>1284.378623</td>\n",
              "      <td>1296.856656</td>\n",
              "      <td>1307.031684</td>\n",
              "      <td>1271.936410</td>\n",
              "      <td>271.075609</td>\n",
              "      <td>205.788897</td>\n",
              "    </tr>\n",
              "    <tr>\n",
              "      <th>min</th>\n",
              "      <td>27812.000000</td>\n",
              "      <td>27805.000000</td>\n",
              "      <td>27887.000000</td>\n",
              "      <td>27620.000000</td>\n",
              "      <td>-146.000000</td>\n",
              "      <td>11.109814</td>\n",
              "    </tr>\n",
              "    <tr>\n",
              "      <th>25%</th>\n",
              "      <td>29432.500000</td>\n",
              "      <td>29436.750000</td>\n",
              "      <td>29499.750000</td>\n",
              "      <td>29345.750000</td>\n",
              "      <td>156.500000</td>\n",
              "      <td>101.369172</td>\n",
              "    </tr>\n",
              "    <tr>\n",
              "      <th>50%</th>\n",
              "      <td>30427.500000</td>\n",
              "      <td>30399.500000</td>\n",
              "      <td>30545.000000</td>\n",
              "      <td>30286.000000</td>\n",
              "      <td>299.000000</td>\n",
              "      <td>184.537243</td>\n",
              "    </tr>\n",
              "    <tr>\n",
              "      <th>75%</th>\n",
              "      <td>31271.750000</td>\n",
              "      <td>31300.000000</td>\n",
              "      <td>31447.500000</td>\n",
              "      <td>31160.750000</td>\n",
              "      <td>475.000000</td>\n",
              "      <td>320.835031</td>\n",
              "    </tr>\n",
              "    <tr>\n",
              "      <th>max</th>\n",
              "      <td>33753.000000</td>\n",
              "      <td>34247.000000</td>\n",
              "      <td>34400.000000</td>\n",
              "      <td>33680.000000</td>\n",
              "      <td>2210.000000</td>\n",
              "      <td>1407.321485</td>\n",
              "    </tr>\n",
              "  </tbody>\n",
              "</table>\n",
              "</div>"
            ],
            "text/plain": [
              "              Price          Open  ...         Pred          new\n",
              "count    512.000000    512.000000  ...   411.000000   512.000000\n",
              "mean   30364.583984  30368.412109  ...   341.712895   245.161859\n",
              "std     1284.378623   1296.856656  ...   271.075609   205.788897\n",
              "min    27812.000000  27805.000000  ...  -146.000000    11.109814\n",
              "25%    29432.500000  29436.750000  ...   156.500000   101.369172\n",
              "50%    30427.500000  30399.500000  ...   299.000000   184.537243\n",
              "75%    31271.750000  31300.000000  ...   475.000000   320.835031\n",
              "max    33753.000000  34247.000000  ...  2210.000000  1407.321485\n",
              "\n",
              "[8 rows x 6 columns]"
            ]
          },
          "metadata": {
            "tags": []
          },
          "execution_count": 156
        }
      ]
    },
    {
      "cell_type": "code",
      "metadata": {
        "id": "JGLFzTl4fg_y",
        "colab_type": "code",
        "colab": {
          "base_uri": "https://localhost:8080/",
          "height": 34
        },
        "outputId": "94ecc7d5-9af5-4ed2-df27-9e92b8e5a33d"
      },
      "source": [
        "df.shape #EXPLORATION OF DATASET"
      ],
      "execution_count": null,
      "outputs": [
        {
          "output_type": "execute_result",
          "data": {
            "text/plain": [
              "(512, 9)"
            ]
          },
          "metadata": {
            "tags": []
          },
          "execution_count": 157
        }
      ]
    },
    {
      "cell_type": "code",
      "metadata": {
        "id": "aptmISX55jiG",
        "colab_type": "code",
        "colab": {
          "base_uri": "https://localhost:8080/",
          "height": 188
        },
        "outputId": "57c01aae-3157-4f02-ea01-1898e0c7b859"
      },
      "source": [
        "df.dtypes"
      ],
      "execution_count": null,
      "outputs": [
        {
          "output_type": "execute_result",
          "data": {
            "text/plain": [
              "Date         object\n",
              "Price         int64\n",
              "Open          int64\n",
              "High          int64\n",
              "Low           int64\n",
              "Vol.         object\n",
              "Change %     object\n",
              "Pred        float64\n",
              "new         float64\n",
              "dtype: object"
            ]
          },
          "metadata": {
            "tags": []
          },
          "execution_count": 158
        }
      ]
    },
    {
      "cell_type": "code",
      "metadata": {
        "id": "i0EF1UO2mZJ4",
        "colab_type": "code",
        "colab": {
          "base_uri": "https://localhost:8080/",
          "height": 407
        },
        "outputId": "c36ff4a0-699d-406f-8df0-4a9439f5676e"
      },
      "source": [
        "df.dropna(inplace=True)\n",
        "df"
      ],
      "execution_count": null,
      "outputs": [
        {
          "output_type": "execute_result",
          "data": {
            "text/html": [
              "<div>\n",
              "<style scoped>\n",
              "    .dataframe tbody tr th:only-of-type {\n",
              "        vertical-align: middle;\n",
              "    }\n",
              "\n",
              "    .dataframe tbody tr th {\n",
              "        vertical-align: top;\n",
              "    }\n",
              "\n",
              "    .dataframe thead th {\n",
              "        text-align: right;\n",
              "    }\n",
              "</style>\n",
              "<table border=\"1\" class=\"dataframe\">\n",
              "  <thead>\n",
              "    <tr style=\"text-align: right;\">\n",
              "      <th></th>\n",
              "      <th>Date</th>\n",
              "      <th>Price</th>\n",
              "      <th>Open</th>\n",
              "      <th>High</th>\n",
              "      <th>Low</th>\n",
              "      <th>Vol.</th>\n",
              "      <th>Change %</th>\n",
              "      <th>Pred</th>\n",
              "      <th>new</th>\n",
              "    </tr>\n",
              "  </thead>\n",
              "  <tbody>\n",
              "    <tr>\n",
              "      <th>0</th>\n",
              "      <td>4-May-17</td>\n",
              "      <td>28060</td>\n",
              "      <td>28400</td>\n",
              "      <td>28482</td>\n",
              "      <td>28025</td>\n",
              "      <td>0.08K</td>\n",
              "      <td>-1.79%</td>\n",
              "      <td>738.0</td>\n",
              "      <td>117.570740</td>\n",
              "    </tr>\n",
              "    <tr>\n",
              "      <th>1</th>\n",
              "      <td>5-May-17</td>\n",
              "      <td>28184</td>\n",
              "      <td>28136</td>\n",
              "      <td>28382</td>\n",
              "      <td>28135</td>\n",
              "      <td>0.06K</td>\n",
              "      <td>0.44%</td>\n",
              "      <td>-146.0</td>\n",
              "      <td>295.430176</td>\n",
              "    </tr>\n",
              "    <tr>\n",
              "      <th>2</th>\n",
              "      <td>8-May-17</td>\n",
              "      <td>28119</td>\n",
              "      <td>28145</td>\n",
              "      <td>28255</td>\n",
              "      <td>28097</td>\n",
              "      <td>7.85K</td>\n",
              "      <td>-0.23%</td>\n",
              "      <td>30.0</td>\n",
              "      <td>132.123714</td>\n",
              "    </tr>\n",
              "    <tr>\n",
              "      <th>3</th>\n",
              "      <td>9-May-17</td>\n",
              "      <td>27981</td>\n",
              "      <td>28125</td>\n",
              "      <td>28192</td>\n",
              "      <td>27947</td>\n",
              "      <td>10.10K</td>\n",
              "      <td>-0.49%</td>\n",
              "      <td>357.0</td>\n",
              "      <td>101.298064</td>\n",
              "    </tr>\n",
              "    <tr>\n",
              "      <th>4</th>\n",
              "      <td>10-May-17</td>\n",
              "      <td>28007</td>\n",
              "      <td>28060</td>\n",
              "      <td>28146</td>\n",
              "      <td>27981</td>\n",
              "      <td>9.28K</td>\n",
              "      <td>0.09%</td>\n",
              "      <td>124.0</td>\n",
              "      <td>112.153318</td>\n",
              "    </tr>\n",
              "    <tr>\n",
              "      <th>...</th>\n",
              "      <td>...</td>\n",
              "      <td>...</td>\n",
              "      <td>...</td>\n",
              "      <td>...</td>\n",
              "      <td>...</td>\n",
              "      <td>...</td>\n",
              "      <td>...</td>\n",
              "      <td>...</td>\n",
              "      <td>...</td>\n",
              "    </tr>\n",
              "    <tr>\n",
              "      <th>406</th>\n",
              "      <td>4-Dec-18</td>\n",
              "      <td>30964</td>\n",
              "      <td>30874</td>\n",
              "      <td>31085</td>\n",
              "      <td>30874</td>\n",
              "      <td>0.08K</td>\n",
              "      <td>0.57%</td>\n",
              "      <td>-31.0</td>\n",
              "      <td>301.615081</td>\n",
              "    </tr>\n",
              "    <tr>\n",
              "      <th>407</th>\n",
              "      <td>5-Dec-18</td>\n",
              "      <td>30926</td>\n",
              "      <td>30830</td>\n",
              "      <td>30970</td>\n",
              "      <td>30825</td>\n",
              "      <td>0.04K</td>\n",
              "      <td>-0.12%</td>\n",
              "      <td>72.0</td>\n",
              "      <td>241.475101</td>\n",
              "    </tr>\n",
              "    <tr>\n",
              "      <th>408</th>\n",
              "      <td>6-Dec-18</td>\n",
              "      <td>31005</td>\n",
              "      <td>31039</td>\n",
              "      <td>31196</td>\n",
              "      <td>30974</td>\n",
              "      <td>10.55K</td>\n",
              "      <td>0.26%</td>\n",
              "      <td>35.0</td>\n",
              "      <td>188.222186</td>\n",
              "    </tr>\n",
              "    <tr>\n",
              "      <th>409</th>\n",
              "      <td>7-Dec-18</td>\n",
              "      <td>31440</td>\n",
              "      <td>31011</td>\n",
              "      <td>31480</td>\n",
              "      <td>30941</td>\n",
              "      <td>11.24K</td>\n",
              "      <td>1.40%</td>\n",
              "      <td>669.0</td>\n",
              "      <td>976.692705</td>\n",
              "    </tr>\n",
              "    <tr>\n",
              "      <th>410</th>\n",
              "      <td>10-Dec-18</td>\n",
              "      <td>31895</td>\n",
              "      <td>31459</td>\n",
              "      <td>31966</td>\n",
              "      <td>31420</td>\n",
              "      <td>14.09K</td>\n",
              "      <td>1.45%</td>\n",
              "      <td>521.0</td>\n",
              "      <td>990.254297</td>\n",
              "    </tr>\n",
              "  </tbody>\n",
              "</table>\n",
              "<p>411 rows × 9 columns</p>\n",
              "</div>"
            ],
            "text/plain": [
              "          Date  Price   Open   High    Low    Vol. Change %   Pred         new\n",
              "0     4-May-17  28060  28400  28482  28025   0.08K   -1.79%  738.0  117.570740\n",
              "1     5-May-17  28184  28136  28382  28135   0.06K    0.44% -146.0  295.430176\n",
              "2     8-May-17  28119  28145  28255  28097   7.85K   -0.23%   30.0  132.123714\n",
              "3     9-May-17  27981  28125  28192  27947  10.10K   -0.49%  357.0  101.298064\n",
              "4    10-May-17  28007  28060  28146  27981   9.28K    0.09%  124.0  112.153318\n",
              "..         ...    ...    ...    ...    ...     ...      ...    ...         ...\n",
              "406   4-Dec-18  30964  30874  31085  30874   0.08K    0.57%  -31.0  301.615081\n",
              "407   5-Dec-18  30926  30830  30970  30825   0.04K   -0.12%   72.0  241.475101\n",
              "408   6-Dec-18  31005  31039  31196  30974  10.55K    0.26%   35.0  188.222186\n",
              "409   7-Dec-18  31440  31011  31480  30941  11.24K    1.40%  669.0  976.692705\n",
              "410  10-Dec-18  31895  31459  31966  31420  14.09K    1.45%  521.0  990.254297\n",
              "\n",
              "[411 rows x 9 columns]"
            ]
          },
          "metadata": {
            "tags": []
          },
          "execution_count": 159
        }
      ]
    },
    {
      "cell_type": "code",
      "metadata": {
        "id": "rLnHtttqaopP",
        "colab_type": "code",
        "colab": {}
      },
      "source": [
        ""
      ],
      "execution_count": null,
      "outputs": []
    },
    {
      "cell_type": "markdown",
      "metadata": {
        "id": "tLhVa92xaJok",
        "colab_type": "text"
      },
      "source": [
        "*USING LINEAR REGRESSION AND POLYNOMIAL REGRESSION*"
      ]
    },
    {
      "cell_type": "code",
      "metadata": {
        "id": "AK12JCNzgznb",
        "colab_type": "code",
        "colab": {}
      },
      "source": [
        "#importing the needed libraries\n",
        "from sklearn.model_selection import train_test_split \n",
        "from sklearn.linear_model import LinearRegression\n",
        "from sklearn import metrics\n",
        "from sklearn.metrics import mean_squared_error, r2_score\n",
        "from sklearn.preprocessing import PolynomialFeatures"
      ],
      "execution_count": null,
      "outputs": []
    },
    {
      "cell_type": "markdown",
      "metadata": {
        "id": "6LOcOMsK_rcr",
        "colab_type": "text"
      },
      "source": [
        "*Using polynomial function of \"open\" price column*"
      ]
    },
    {
      "cell_type": "code",
      "metadata": {
        "id": "TwSYijojiZW6",
        "colab_type": "code",
        "colab": {
          "base_uri": "https://localhost:8080/",
          "height": 51
        },
        "outputId": "1b99473f-e6df-4077-ebd7-6f1ecc577275"
      },
      "source": [
        "from sklearn.preprocessing import PolynomialFeatures\n",
        "from sklearn.linear_model import LinearRegression\n",
        "\n",
        "X = df[\"Open\"].values\n",
        "y = df[\"Pred\"].values\n",
        "X = X.reshape(-1, 1)\n",
        "poly = PolynomialFeatures(degree=2)\n",
        "poly_data = poly.fit_transform(X)\n",
        "\n",
        "poly.fit(poly_data, y)\n",
        "model = LinearRegression()\n",
        "model.fit(poly_data,y)\n",
        "\n",
        "coef = model.coef_\n",
        "print(coef)\n",
        "intercept = model.intercept_\n",
        "print(intercept)"
      ],
      "execution_count": null,
      "outputs": [
        {
          "output_type": "stream",
          "text": [
            "[ 0.00000000e+00  1.54222348e-01 -2.08822516e-06]\n",
            "-2401.4667481303413\n"
          ],
          "name": "stdout"
        }
      ]
    },
    {
      "cell_type": "code",
      "metadata": {
        "id": "-eqtHRbeitkB",
        "colab_type": "code",
        "colab": {
          "base_uri": "https://localhost:8080/",
          "height": 265
        },
        "outputId": "36e6a6df-5464-46b6-d4d6-eb11c65631b5"
      },
      "source": [
        "y3_pred=model.predict(poly.fit_transform(X))\n",
        "plt.scatter(X,y,color='red')\n",
        "plt.plot(X, y3_pred,color='blue')\n",
        "plt.legend(['Prediction','Original'])\n",
        "plt.show()"
      ],
      "execution_count": null,
      "outputs": [
        {
          "output_type": "display_data",
          "data": {
            "image/png": "[encoded data removed]",
            "text/plain": [
              "<Figure size 432x288 with 1 Axes>"
            ]
          },
          "metadata": {
            "tags": [],
            "needs_background": "light"
          }
        }
      ]
    },
    {
      "cell_type": "code",
      "metadata": {
        "id": "vkq3nSY4k8C_",
        "colab_type": "code",
        "colab": {
          "base_uri": "https://localhost:8080/",
          "height": 51
        },
        "outputId": "078d1c9d-c03e-40ee-d7b6-938d598b7066"
      },
      "source": [
        "rmse = np.sqrt(mean_squared_error(y,y3_pred))\n",
        "r2 = r2_score(y,y3_pred)\n",
        "print(rmse)\n",
        "print(r2)"
      ],
      "execution_count": null,
      "outputs": [
        {
          "output_type": "stream",
          "text": [
            "269.118959707757\n",
            "0.011980144571252294\n"
          ],
          "name": "stdout"
        }
      ]
    },
    {
      "cell_type": "code",
      "metadata": {
        "id": "H6muZrg6wsYh",
        "colab_type": "code",
        "colab": {}
      },
      "source": [
        "x = df[['Price','Open','High','Low']]\n",
        "y = df['new'].values.reshape(-1,1)\n",
        "X_train, X_test, y_train, y_test =  train_test_split(x, y,\n",
        "                                   test_size=0.2, random_state=42)\n",
        "\n",
        "from sklearn.pipeline import make_pipeline\n",
        "model=make_pipeline(PolynomialFeatures(),LinearRegression())\n",
        "model.fit(X_train, y_train)  \n",
        "predict=model.predict(x)"
      ],
      "execution_count": null,
      "outputs": []
    },
    {
      "cell_type": "code",
      "metadata": {
        "id": "fGK0Go8PxS43",
        "colab_type": "code",
        "colab": {
          "base_uri": "https://localhost:8080/",
          "height": 366
        },
        "outputId": "aa8f5688-987c-48eb-bd62-5594af03916f"
      },
      "source": [
        "print(\"THE FIRST TEN PREDICTIONS ARE : \",end=\" \")\n",
        "df_1 = pd.DataFrame()\n",
        "df_1['ACTUAL'] = df['new']\n",
        "df_1['PREDICTED'] = predict\n",
        "df_1.head(10)"
      ],
      "execution_count": null,
      "outputs": [
        {
          "output_type": "stream",
          "text": [
            "THE FIRST TEN PREDICTIONS ARE :  "
          ],
          "name": "stdout"
        },
        {
          "output_type": "execute_result",
          "data": {
            "text/html": [
              "<div>\n",
              "<style scoped>\n",
              "    .dataframe tbody tr th:only-of-type {\n",
              "        vertical-align: middle;\n",
              "    }\n",
              "\n",
              "    .dataframe tbody tr th {\n",
              "        vertical-align: top;\n",
              "    }\n",
              "\n",
              "    .dataframe thead th {\n",
              "        text-align: right;\n",
              "    }\n",
              "</style>\n",
              "<table border=\"1\" class=\"dataframe\">\n",
              "  <thead>\n",
              "    <tr style=\"text-align: right;\">\n",
              "      <th></th>\n",
              "      <th>ACTUAL</th>\n",
              "      <th>PREDICTED</th>\n",
              "    </tr>\n",
              "  </thead>\n",
              "  <tbody>\n",
              "    <tr>\n",
              "      <th>0</th>\n",
              "      <td>117.570740</td>\n",
              "      <td>117.623083</td>\n",
              "    </tr>\n",
              "    <tr>\n",
              "      <th>1</th>\n",
              "      <td>295.430176</td>\n",
              "      <td>295.443557</td>\n",
              "    </tr>\n",
              "    <tr>\n",
              "      <th>2</th>\n",
              "      <td>132.123714</td>\n",
              "      <td>132.106192</td>\n",
              "    </tr>\n",
              "    <tr>\n",
              "      <th>3</th>\n",
              "      <td>101.298064</td>\n",
              "      <td>101.300241</td>\n",
              "    </tr>\n",
              "    <tr>\n",
              "      <th>4</th>\n",
              "      <td>112.153318</td>\n",
              "      <td>112.136165</td>\n",
              "    </tr>\n",
              "    <tr>\n",
              "      <th>5</th>\n",
              "      <td>182.427089</td>\n",
              "      <td>182.425644</td>\n",
              "    </tr>\n",
              "    <tr>\n",
              "      <th>6</th>\n",
              "      <td>141.255137</td>\n",
              "      <td>141.252234</td>\n",
              "    </tr>\n",
              "    <tr>\n",
              "      <th>7</th>\n",
              "      <td>120.069010</td>\n",
              "      <td>120.048067</td>\n",
              "    </tr>\n",
              "    <tr>\n",
              "      <th>8</th>\n",
              "      <td>218.401641</td>\n",
              "      <td>218.401825</td>\n",
              "    </tr>\n",
              "    <tr>\n",
              "      <th>9</th>\n",
              "      <td>919.376358</td>\n",
              "      <td>919.249411</td>\n",
              "    </tr>\n",
              "  </tbody>\n",
              "</table>\n",
              "</div>"
            ],
            "text/plain": [
              "       ACTUAL   PREDICTED\n",
              "0  117.570740  117.623083\n",
              "1  295.430176  295.443557\n",
              "2  132.123714  132.106192\n",
              "3  101.298064  101.300241\n",
              "4  112.153318  112.136165\n",
              "5  182.427089  182.425644\n",
              "6  141.255137  141.252234\n",
              "7  120.069010  120.048067\n",
              "8  218.401641  218.401825\n",
              "9  919.376358  919.249411"
            ]
          },
          "metadata": {
            "tags": []
          },
          "execution_count": 104
        }
      ]
    },
    {
      "cell_type": "code",
      "metadata": {
        "id": "6mIPPzetyNZJ",
        "colab_type": "code",
        "colab": {
          "base_uri": "https://localhost:8080/",
          "height": 282
        },
        "outputId": "f3c3d681-d0e1-49c5-b360-dbf493ff1c3a"
      },
      "source": [
        "import seaborn as sns\n",
        "ax1 = sns.distplot(y, hist=False, color=\"r\", label=\"Actual Value of Pred\")\n",
        "sns.distplot(predict, hist=False, color=\"b\", label=\"Fitted Values of Pred\" , ax=ax1)"
      ],
      "execution_count": null,
      "outputs": [
        {
          "output_type": "execute_result",
          "data": {
            "text/plain": [
              "<matplotlib.axes._subplots.AxesSubplot at 0x7f7bd4b62d68>"
            ]
          },
          "metadata": {
            "tags": []
          },
          "execution_count": 105
        },
        {
          "output_type": "display_data",
          "data": {
            "image/png": "[encoded data removed]",
            "text/plain": [
              "<Figure size 432x288 with 1 Axes>"
            ]
          },
          "metadata": {
            "tags": [],
            "needs_background": "light"
          }
        }
      ]
    },
    {
      "cell_type": "markdown",
      "metadata": {
        "id": "YvFRSZHrjRIB",
        "colab_type": "text"
      },
      "source": [
        "*Using linear regression function of \"open\" price column*"
      ]
    },
    {
      "cell_type": "code",
      "metadata": {
        "id": "aZxmwjdvg2R-",
        "colab_type": "code",
        "colab": {}
      },
      "source": [
        "x = df['Open'].values.reshape(-1,1)\n",
        "y = df['Pred'].values.reshape(-1,1)\n",
        "X_train, X_test, y_train, y_test = train_test_split(x, y, test_size=0.2, random_state=42)"
      ],
      "execution_count": null,
      "outputs": []
    },
    {
      "cell_type": "code",
      "metadata": {
        "id": "KYRmpsvgiqSO",
        "colab_type": "code",
        "colab": {
          "base_uri": "https://localhost:8080/",
          "height": 34
        },
        "outputId": "03276a91-9f6f-4f7a-b5fb-817215e76635"
      },
      "source": [
        "reg = LinearRegression()  \n",
        "reg.fit(X_train, y_train) #training the algorithm"
      ],
      "execution_count": null,
      "outputs": [
        {
          "output_type": "execute_result",
          "data": {
            "text/plain": [
              "LinearRegression(copy_X=True, fit_intercept=True, n_jobs=None, normalize=False)"
            ]
          },
          "metadata": {
            "tags": []
          },
          "execution_count": 107
        }
      ]
    },
    {
      "cell_type": "code",
      "metadata": {
        "id": "XfYEDPjLmd_u",
        "colab_type": "code",
        "colab": {
          "base_uri": "https://localhost:8080/",
          "height": 51
        },
        "outputId": "2e0f142b-caf3-45be-ad3e-2f290a2c716f"
      },
      "source": [
        "print(\"INTERCEPT IS :\",end=\" \")\n",
        "print(reg.intercept_)\n",
        "print(\"COEFFICIENT IS :\",end=\" \")\n",
        "print(reg.coef_)"
      ],
      "execution_count": null,
      "outputs": [
        {
          "output_type": "stream",
          "text": [
            "INTERCEPT IS : [-875.85304311]\n",
            "COEFFICIENT IS : [[0.04078453]]\n"
          ],
          "name": "stdout"
        }
      ]
    },
    {
      "cell_type": "code",
      "metadata": {
        "id": "DcfJ7npdm40I",
        "colab_type": "code",
        "colab": {
          "base_uri": "https://localhost:8080/",
          "height": 205
        },
        "outputId": "d89d6232-ffdd-494f-8da4-98bba06bd626"
      },
      "source": [
        "y_pred = reg.predict(x)\n",
        "print(\"THE FIRST TEN PREDICTIONS ARE : \")\n",
        "print(y_pred[0:10])"
      ],
      "execution_count": null,
      "outputs": [
        {
          "output_type": "stream",
          "text": [
            "THE FIRST TEN PREDICTIONS ARE : \n",
            "[[282.42747829]\n",
            " [271.66036359]\n",
            " [272.02742432]\n",
            " [271.21173381]\n",
            " [268.56073966]\n",
            " [265.90974551]\n",
            " [269.70270637]\n",
            " [268.11210988]\n",
            " [267.13328127]\n",
            " [273.04703745]]\n"
          ],
          "name": "stdout"
        }
      ]
    },
    {
      "cell_type": "code",
      "metadata": {
        "id": "V5xvHdMBrLvC",
        "colab_type": "code",
        "colab": {
          "base_uri": "https://localhost:8080/",
          "height": 282
        },
        "outputId": "30286362-575d-4f4a-ee7d-6eb502fe639d"
      },
      "source": [
        "plt.scatter(x,y,color='green',label=\"dataset\")\n",
        "plt.plot(x,y_pred, color='red',label=\"REGRESSION LINE\")\n",
        "plt.title('predicted Vs actual', fontsize=14)\n",
        "plt.legend()\n",
        "plt.grid(True)\n",
        "plt.show()"
      ],
      "execution_count": null,
      "outputs": [
        {
          "output_type": "display_data",
          "data": {
            "image/png": "[encoded data removed]",
            "text/plain": [
              "<Figure size 432x288 with 1 Axes>"
            ]
          },
          "metadata": {
            "tags": [],
            "needs_background": "light"
          }
        }
      ]
    },
    {
      "cell_type": "markdown",
      "metadata": {
        "id": "tW0B6eut_lRZ",
        "colab_type": "text"
      },
      "source": [
        "*Using linear regression of high price column*"
      ]
    },
    {
      "cell_type": "code",
      "metadata": {
        "id": "53wrozIc-rah",
        "colab_type": "code",
        "colab": {
          "base_uri": "https://localhost:8080/",
          "height": 51
        },
        "outputId": "a1e5b57a-2f5a-4f07-eb20-1bca3f52c2c3"
      },
      "source": [
        "x = df['High'].values.reshape(-1,1)\n",
        "y = df['Pred'].values.reshape(-1,1)\n",
        "X_train, X_test, y_train, y_test =  train_test_split(x, y,\n",
        "                                   test_size=0.2, random_state=42)\n",
        "\n",
        "reg1 = LinearRegression()  \n",
        "reg1.fit(X_train, y_train) #training the algorithm\n",
        "\n",
        "print(\"INTERCEPT IS :\",end=\" \")\n",
        "print(reg1.intercept_)\n",
        "print(\"COEFFICIENT IS :\",end=\" \")\n",
        "print(reg1.coef_)"
      ],
      "execution_count": null,
      "outputs": [
        {
          "output_type": "stream",
          "text": [
            "INTERCEPT IS : [-648.10403902]\n",
            "COEFFICIENT IS : [[0.03306187]]\n"
          ],
          "name": "stdout"
        }
      ]
    },
    {
      "cell_type": "code",
      "metadata": {
        "id": "4B8YpPY9_NQU",
        "colab_type": "code",
        "colab": {
          "base_uri": "https://localhost:8080/",
          "height": 188
        },
        "outputId": "6dfb192e-67d7-4752-8441-8d18c4ca5ca1"
      },
      "source": [
        "y1_pred = reg1.predict(x)\n",
        "print(\"THE FIRST TEN PREDICTIONS ARE : \",end=\" \")\n",
        "print(y1_pred[0:10])"
      ],
      "execution_count": null,
      "outputs": [
        {
          "output_type": "stream",
          "text": [
            "THE FIRST TEN PREDICTIONS ARE :  [[293.56405589]\n",
            " [290.25786919]\n",
            " [286.05901208]\n",
            " [283.97611447]\n",
            " [282.45526859]\n",
            " [280.9344227 ]\n",
            " [284.07530007]\n",
            " [282.81894912]\n",
            " [282.88507286]\n",
            " [298.72170713]]\n"
          ],
          "name": "stdout"
        }
      ]
    },
    {
      "cell_type": "code",
      "metadata": {
        "id": "QUTt34df_Tkb",
        "colab_type": "code",
        "colab": {
          "base_uri": "https://localhost:8080/",
          "height": 279
        },
        "outputId": "d5f35ab3-1c3d-4214-82eb-144b9434ef6d"
      },
      "source": [
        "plt.scatter(x,y,color='brown',label=\"dataset\")\n",
        "plt.plot(x,y1_pred, color='orange',label=\"REGRESSION LINE\")\n",
        "plt.title('predicted Vs actual', fontsize=10)\n",
        "plt.legend()\n",
        "plt.grid(True)\n",
        "plt.show()"
      ],
      "execution_count": null,
      "outputs": [
        {
          "output_type": "display_data",
          "data": {
            "image/png": "[encoded data removed]",
            "text/plain": [
              "<Figure size 432x288 with 1 Axes>"
            ]
          },
          "metadata": {
            "tags": [],
            "needs_background": "light"
          }
        }
      ]
    },
    {
      "cell_type": "markdown",
      "metadata": {
        "id": "LwJx88uydlI-",
        "colab_type": "text"
      },
      "source": [
        "*Using linear regression on \"low\" price*"
      ]
    },
    {
      "cell_type": "code",
      "metadata": {
        "id": "2SKMprwg-qtR",
        "colab_type": "code",
        "colab": {
          "base_uri": "https://localhost:8080/",
          "height": 51
        },
        "outputId": "7b9a1c1e-9e12-4489-e33f-19bb09a69022"
      },
      "source": [
        "x = df['Low'].values.reshape(-1,1)\n",
        "y = df['Pred'].values.reshape(-1,1)\n",
        "X_train, X_test, y_train, y_test =  train_test_split(x, y,\n",
        "                                   test_size=0.2, random_state=42)\n",
        "\n",
        "reg1 = LinearRegression()  \n",
        "reg1.fit(X_train, y_train) #training the algorithm\n",
        "\n",
        "print(\"INTERCEPT IS :\",end=\" \")\n",
        "print(reg1.intercept_)\n",
        "print(\"COEFFICIENT IS :\",end=\" \")\n",
        "print(reg1.coef_)"
      ],
      "execution_count": null,
      "outputs": [
        {
          "output_type": "stream",
          "text": [
            "INTERCEPT IS : [-102.10514715]\n",
            "COEFFICIENT IS : [[0.01505017]]\n"
          ],
          "name": "stdout"
        }
      ]
    },
    {
      "cell_type": "code",
      "metadata": {
        "id": "rm_d0SEnAM-c",
        "colab_type": "code",
        "colab": {
          "base_uri": "https://localhost:8080/",
          "height": 188
        },
        "outputId": "b3e0a6ae-61aa-46d2-d472-e5a8bcf06ddf"
      },
      "source": [
        "y3_pred = reg1.predict(x)\n",
        "print(\"THE FIRST TEN PREDICTIONS ARE : \",end=\" \")\n",
        "print(y3_pred[0:10])"
      ],
      "execution_count": null,
      "outputs": [
        {
          "output_type": "stream",
          "text": [
            "THE FIRST TEN PREDICTIONS ARE :  [[319.67588963]\n",
            " [321.33140841]\n",
            " [320.75950192]\n",
            " [318.5019763 ]\n",
            " [319.01368211]\n",
            " [318.47187596]\n",
            " [319.07388279]\n",
            " [319.23943467]\n",
            " [319.67588963]\n",
            " [321.85816439]]\n"
          ],
          "name": "stdout"
        }
      ]
    },
    {
      "cell_type": "code",
      "metadata": {
        "id": "xAaiomIdARU_",
        "colab_type": "code",
        "colab": {
          "base_uri": "https://localhost:8080/",
          "height": 279
        },
        "outputId": "4893bec1-58c8-4ae7-df76-44d7d300d3c9"
      },
      "source": [
        "plt.scatter(x,y,color='pink',label=\"dataset\")\n",
        "plt.plot(x,y3_pred, color='black',label=\"REGRESSION LINE\")\n",
        "plt.title('predicted Vs actual', fontsize=10)\n",
        "plt.legend()\n",
        "plt.grid(True)\n",
        "plt.show()"
      ],
      "execution_count": null,
      "outputs": [
        {
          "output_type": "display_data",
          "data": {
            "image/png": "[encoded data removed]",
            "text/plain": [
              "<Figure size 432x288 with 1 Axes>"
            ]
          },
          "metadata": {
            "tags": [],
            "needs_background": "light"
          }
        }
      ]
    },
    {
      "cell_type": "markdown",
      "metadata": {
        "id": "e5JoOpPrxKVB",
        "colab_type": "text"
      },
      "source": [
        "MULTIPLE LINEAR REGRESSION :"
      ]
    },
    {
      "cell_type": "code",
      "metadata": {
        "id": "6HsLBILkp4Gp",
        "colab_type": "code",
        "colab": {
          "base_uri": "https://localhost:8080/",
          "height": 51
        },
        "outputId": "c407bb06-bf8f-4ad8-ff2e-e9bf26056b70"
      },
      "source": [
        "x = df[['Price','Open','High','Low']]\n",
        "y = df['Pred'].values.reshape(-1,1)\n",
        "X_train, X_test, y_train, y_test =  train_test_split(x, y,\n",
        "                                   test_size=0.2, random_state=42)\n",
        "\n",
        "reg1 = LinearRegression()  \n",
        "reg1.fit(X_train, y_train) #training the algorithm\n",
        "\n",
        "#Using linear regression, find the coefficients of the inputs\n",
        "print(\"INTERCEPT IS :\",end=\" \")\n",
        "print(reg1.intercept_)\n",
        "print(\"COEFFICIENT IS :\",end=\" \")\n",
        "print(reg1.coef_)"
      ],
      "execution_count": null,
      "outputs": [
        {
          "output_type": "stream",
          "text": [
            "INTERCEPT IS : [6.82121026e-13]\n",
            "COEFFICIENT IS : [[ 2.  3. -1. -4.]]\n"
          ],
          "name": "stdout"
        }
      ]
    },
    {
      "cell_type": "code",
      "metadata": {
        "id": "fUDh9lJIrLu8",
        "colab_type": "code",
        "colab": {
          "base_uri": "https://localhost:8080/",
          "height": 366
        },
        "outputId": "c3540ec7-8155-4444-cc1a-5631f43bb339"
      },
      "source": [
        "y3_pred = reg1.predict(x)\n",
        "print(\"THE FIRST TEN PREDICTIONS ARE : \",end=\" \")\n",
        "d = {'col1': df['Pred']}\n",
        "df1 = pd.DataFrame()\n",
        "df1['ACTUAL'] = df['Pred']\n",
        "df1['PREDICTED'] = y3_pred\n",
        "df1.head(10)"
      ],
      "execution_count": null,
      "outputs": [
        {
          "output_type": "stream",
          "text": [
            "THE FIRST TEN PREDICTIONS ARE :  "
          ],
          "name": "stdout"
        },
        {
          "output_type": "execute_result",
          "data": {
            "text/html": [
              "<div>\n",
              "<style scoped>\n",
              "    .dataframe tbody tr th:only-of-type {\n",
              "        vertical-align: middle;\n",
              "    }\n",
              "\n",
              "    .dataframe tbody tr th {\n",
              "        vertical-align: top;\n",
              "    }\n",
              "\n",
              "    .dataframe thead th {\n",
              "        text-align: right;\n",
              "    }\n",
              "</style>\n",
              "<table border=\"1\" class=\"dataframe\">\n",
              "  <thead>\n",
              "    <tr style=\"text-align: right;\">\n",
              "      <th></th>\n",
              "      <th>ACTUAL</th>\n",
              "      <th>PREDICTED</th>\n",
              "    </tr>\n",
              "  </thead>\n",
              "  <tbody>\n",
              "    <tr>\n",
              "      <th>0</th>\n",
              "      <td>738.0</td>\n",
              "      <td>738.0</td>\n",
              "    </tr>\n",
              "    <tr>\n",
              "      <th>1</th>\n",
              "      <td>-146.0</td>\n",
              "      <td>-146.0</td>\n",
              "    </tr>\n",
              "    <tr>\n",
              "      <th>2</th>\n",
              "      <td>30.0</td>\n",
              "      <td>30.0</td>\n",
              "    </tr>\n",
              "    <tr>\n",
              "      <th>3</th>\n",
              "      <td>357.0</td>\n",
              "      <td>357.0</td>\n",
              "    </tr>\n",
              "    <tr>\n",
              "      <th>4</th>\n",
              "      <td>124.0</td>\n",
              "      <td>124.0</td>\n",
              "    </tr>\n",
              "    <tr>\n",
              "      <th>5</th>\n",
              "      <td>149.0</td>\n",
              "      <td>149.0</td>\n",
              "    </tr>\n",
              "    <tr>\n",
              "      <th>6</th>\n",
              "      <td>167.0</td>\n",
              "      <td>167.0</td>\n",
              "    </tr>\n",
              "    <tr>\n",
              "      <th>7</th>\n",
              "      <td>22.0</td>\n",
              "      <td>22.0</td>\n",
              "    </tr>\n",
              "    <tr>\n",
              "      <th>8</th>\n",
              "      <td>34.0</td>\n",
              "      <td>34.0</td>\n",
              "    </tr>\n",
              "    <tr>\n",
              "      <th>9</th>\n",
              "      <td>420.0</td>\n",
              "      <td>420.0</td>\n",
              "    </tr>\n",
              "  </tbody>\n",
              "</table>\n",
              "</div>"
            ],
            "text/plain": [
              "   ACTUAL  PREDICTED\n",
              "0   738.0      738.0\n",
              "1  -146.0     -146.0\n",
              "2    30.0       30.0\n",
              "3   357.0      357.0\n",
              "4   124.0      124.0\n",
              "5   149.0      149.0\n",
              "6   167.0      167.0\n",
              "7    22.0       22.0\n",
              "8    34.0       34.0\n",
              "9   420.0      420.0"
            ]
          },
          "metadata": {
            "tags": []
          },
          "execution_count": 118
        }
      ]
    },
    {
      "cell_type": "code",
      "metadata": {
        "id": "cPJ4qIJ1rbjQ",
        "colab_type": "code",
        "colab": {
          "base_uri": "https://localhost:8080/",
          "height": 282
        },
        "outputId": "1ea92470-daab-461a-b2f3-6308ae3cc1dc"
      },
      "source": [
        "import seaborn as sns\n",
        "ax1 = sns.distplot(y, hist=False, color=\"r\", label=\"Actual Value of Pred\")\n",
        "sns.distplot(y3_pred, hist=False, color=\"b\", label=\"Fitted Values of Pred\" , ax=ax1)"
      ],
      "execution_count": null,
      "outputs": [
        {
          "output_type": "execute_result",
          "data": {
            "text/plain": [
              "<matplotlib.axes._subplots.AxesSubplot at 0x7f7bd4a20518>"
            ]
          },
          "metadata": {
            "tags": []
          },
          "execution_count": 119
        },
        {
          "output_type": "display_data",
          "data": {
            "image/png": "[encoded data removed]",
            "text/plain": [
              "<Figure size 432x288 with 1 Axes>"
            ]
          },
          "metadata": {
            "tags": [],
            "needs_background": "light"
          }
        }
      ]
    },
    {
      "cell_type": "code",
      "metadata": {
        "id": "EF-JGJ6gWRzO",
        "colab_type": "code",
        "colab": {
          "base_uri": "https://localhost:8080/",
          "height": 407
        },
        "outputId": "44bc25d7-4342-4783-e5bb-4eb846574e7f"
      },
      "source": [
        "df['Pred'] = y3_pred\n",
        "df"
      ],
      "execution_count": null,
      "outputs": [
        {
          "output_type": "execute_result",
          "data": {
            "text/html": [
              "<div>\n",
              "<style scoped>\n",
              "    .dataframe tbody tr th:only-of-type {\n",
              "        vertical-align: middle;\n",
              "    }\n",
              "\n",
              "    .dataframe tbody tr th {\n",
              "        vertical-align: top;\n",
              "    }\n",
              "\n",
              "    .dataframe thead th {\n",
              "        text-align: right;\n",
              "    }\n",
              "</style>\n",
              "<table border=\"1\" class=\"dataframe\">\n",
              "  <thead>\n",
              "    <tr style=\"text-align: right;\">\n",
              "      <th></th>\n",
              "      <th>Date</th>\n",
              "      <th>Price</th>\n",
              "      <th>Open</th>\n",
              "      <th>High</th>\n",
              "      <th>Low</th>\n",
              "      <th>Vol.</th>\n",
              "      <th>Change %</th>\n",
              "      <th>Pred</th>\n",
              "      <th>new</th>\n",
              "    </tr>\n",
              "  </thead>\n",
              "  <tbody>\n",
              "    <tr>\n",
              "      <th>0</th>\n",
              "      <td>4-May-17</td>\n",
              "      <td>28060</td>\n",
              "      <td>28400</td>\n",
              "      <td>28482</td>\n",
              "      <td>28025</td>\n",
              "      <td>0.08K</td>\n",
              "      <td>-1.79%</td>\n",
              "      <td>738.0</td>\n",
              "      <td>117.570740</td>\n",
              "    </tr>\n",
              "    <tr>\n",
              "      <th>1</th>\n",
              "      <td>5-May-17</td>\n",
              "      <td>28184</td>\n",
              "      <td>28136</td>\n",
              "      <td>28382</td>\n",
              "      <td>28135</td>\n",
              "      <td>0.06K</td>\n",
              "      <td>0.44%</td>\n",
              "      <td>-146.0</td>\n",
              "      <td>295.430176</td>\n",
              "    </tr>\n",
              "    <tr>\n",
              "      <th>2</th>\n",
              "      <td>8-May-17</td>\n",
              "      <td>28119</td>\n",
              "      <td>28145</td>\n",
              "      <td>28255</td>\n",
              "      <td>28097</td>\n",
              "      <td>7.85K</td>\n",
              "      <td>-0.23%</td>\n",
              "      <td>30.0</td>\n",
              "      <td>132.123714</td>\n",
              "    </tr>\n",
              "    <tr>\n",
              "      <th>3</th>\n",
              "      <td>9-May-17</td>\n",
              "      <td>27981</td>\n",
              "      <td>28125</td>\n",
              "      <td>28192</td>\n",
              "      <td>27947</td>\n",
              "      <td>10.10K</td>\n",
              "      <td>-0.49%</td>\n",
              "      <td>357.0</td>\n",
              "      <td>101.298064</td>\n",
              "    </tr>\n",
              "    <tr>\n",
              "      <th>4</th>\n",
              "      <td>10-May-17</td>\n",
              "      <td>28007</td>\n",
              "      <td>28060</td>\n",
              "      <td>28146</td>\n",
              "      <td>27981</td>\n",
              "      <td>9.28K</td>\n",
              "      <td>0.09%</td>\n",
              "      <td>124.0</td>\n",
              "      <td>112.153318</td>\n",
              "    </tr>\n",
              "    <tr>\n",
              "      <th>...</th>\n",
              "      <td>...</td>\n",
              "      <td>...</td>\n",
              "      <td>...</td>\n",
              "      <td>...</td>\n",
              "      <td>...</td>\n",
              "      <td>...</td>\n",
              "      <td>...</td>\n",
              "      <td>...</td>\n",
              "      <td>...</td>\n",
              "    </tr>\n",
              "    <tr>\n",
              "      <th>406</th>\n",
              "      <td>4-Dec-18</td>\n",
              "      <td>30964</td>\n",
              "      <td>30874</td>\n",
              "      <td>31085</td>\n",
              "      <td>30874</td>\n",
              "      <td>0.08K</td>\n",
              "      <td>0.57%</td>\n",
              "      <td>-31.0</td>\n",
              "      <td>301.615081</td>\n",
              "    </tr>\n",
              "    <tr>\n",
              "      <th>407</th>\n",
              "      <td>5-Dec-18</td>\n",
              "      <td>30926</td>\n",
              "      <td>30830</td>\n",
              "      <td>30970</td>\n",
              "      <td>30825</td>\n",
              "      <td>0.04K</td>\n",
              "      <td>-0.12%</td>\n",
              "      <td>72.0</td>\n",
              "      <td>241.475101</td>\n",
              "    </tr>\n",
              "    <tr>\n",
              "      <th>408</th>\n",
              "      <td>6-Dec-18</td>\n",
              "      <td>31005</td>\n",
              "      <td>31039</td>\n",
              "      <td>31196</td>\n",
              "      <td>30974</td>\n",
              "      <td>10.55K</td>\n",
              "      <td>0.26%</td>\n",
              "      <td>35.0</td>\n",
              "      <td>188.222186</td>\n",
              "    </tr>\n",
              "    <tr>\n",
              "      <th>409</th>\n",
              "      <td>7-Dec-18</td>\n",
              "      <td>31440</td>\n",
              "      <td>31011</td>\n",
              "      <td>31480</td>\n",
              "      <td>30941</td>\n",
              "      <td>11.24K</td>\n",
              "      <td>1.40%</td>\n",
              "      <td>669.0</td>\n",
              "      <td>976.692705</td>\n",
              "    </tr>\n",
              "    <tr>\n",
              "      <th>410</th>\n",
              "      <td>10-Dec-18</td>\n",
              "      <td>31895</td>\n",
              "      <td>31459</td>\n",
              "      <td>31966</td>\n",
              "      <td>31420</td>\n",
              "      <td>14.09K</td>\n",
              "      <td>1.45%</td>\n",
              "      <td>521.0</td>\n",
              "      <td>990.254297</td>\n",
              "    </tr>\n",
              "  </tbody>\n",
              "</table>\n",
              "<p>411 rows × 9 columns</p>\n",
              "</div>"
            ],
            "text/plain": [
              "          Date  Price   Open   High    Low    Vol. Change %   Pred         new\n",
              "0     4-May-17  28060  28400  28482  28025   0.08K   -1.79%  738.0  117.570740\n",
              "1     5-May-17  28184  28136  28382  28135   0.06K    0.44% -146.0  295.430176\n",
              "2     8-May-17  28119  28145  28255  28097   7.85K   -0.23%   30.0  132.123714\n",
              "3     9-May-17  27981  28125  28192  27947  10.10K   -0.49%  357.0  101.298064\n",
              "4    10-May-17  28007  28060  28146  27981   9.28K    0.09%  124.0  112.153318\n",
              "..         ...    ...    ...    ...    ...     ...      ...    ...         ...\n",
              "406   4-Dec-18  30964  30874  31085  30874   0.08K    0.57%  -31.0  301.615081\n",
              "407   5-Dec-18  30926  30830  30970  30825   0.04K   -0.12%   72.0  241.475101\n",
              "408   6-Dec-18  31005  31039  31196  30974  10.55K    0.26%   35.0  188.222186\n",
              "409   7-Dec-18  31440  31011  31480  30941  11.24K    1.40%  669.0  976.692705\n",
              "410  10-Dec-18  31895  31459  31966  31420  14.09K    1.45%  521.0  990.254297\n",
              "\n",
              "[411 rows x 9 columns]"
            ]
          },
          "metadata": {
            "tags": []
          },
          "execution_count": 120
        }
      ]
    },
    {
      "cell_type": "markdown",
      "metadata": {
        "id": "AiMVN9uEsOUn",
        "colab_type": "text"
      },
      "source": [
        "**THUS WE CAN CONCLUDE THAT :**\n",
        "\n",
        "\n",
        "1.   **PRED COLUMN IS A LINEAR FUNCTION OF THE INPUT COLUMNS**\n",
        "\n",
        "2.   **NEW COLUMN IS A POLYNOMIAL FUNCTION OF THE INPUT COLUMNS**\n",
        "\n"
      ]
    },
    {
      "cell_type": "markdown",
      "metadata": {
        "id": "tveqEu3xrMxr",
        "colab_type": "text"
      },
      "source": [
        "***Distplots***\n",
        "\n",
        "Plotting distplot to recognize the discrepencies"
      ]
    },
    {
      "cell_type": "code",
      "metadata": {
        "id": "z_O_DjiBcm5_",
        "colab_type": "code",
        "colab": {
          "base_uri": "https://localhost:8080/",
          "height": 296
        },
        "outputId": "40c5b374-c30f-44a7-b59b-cbcfce173eb1"
      },
      "source": [
        "import seaborn as sns\n",
        "sns.distplot(df['Pred'],kde_kws={\"color\": \"k\", \"lw\": 2, \"label\": \"KDE\"},\n",
        "                  hist_kws={\"histtype\": \"step\", \"linewidth\": 3,\n",
        "                            \"alpha\": 1, \"color\": \"g\"})"
      ],
      "execution_count": null,
      "outputs": [
        {
          "output_type": "execute_result",
          "data": {
            "text/plain": [
              "<matplotlib.axes._subplots.AxesSubplot at 0x7f7bd4ac0080>"
            ]
          },
          "metadata": {
            "tags": []
          },
          "execution_count": 121
        },
        {
          "output_type": "display_data",
          "data": {
            "image/png": "[encoded data removed]",
            "text/plain": [
              "<Figure size 432x288 with 1 Axes>"
            ]
          },
          "metadata": {
            "tags": [],
            "needs_background": "light"
          }
        }
      ]
    },
    {
      "cell_type": "code",
      "metadata": {
        "id": "aDc04bKQAXDv",
        "colab_type": "code",
        "colab": {
          "base_uri": "https://localhost:8080/",
          "height": 296
        },
        "outputId": "8f5585e9-f0c2-41e3-cf79-418c7f263227"
      },
      "source": [
        "sns.distplot(df['new'],kde_kws={\"color\": \"k\", \"lw\": 2, \"label\": \"KDE\"},\n",
        "                  hist_kws={\"histtype\": \"step\", \"linewidth\": 3,\n",
        "                            \"alpha\": 1, \"color\": \"g\"})"
      ],
      "execution_count": null,
      "outputs": [
        {
          "output_type": "execute_result",
          "data": {
            "text/plain": [
              "<matplotlib.axes._subplots.AxesSubplot at 0x7f7bd48b6a20>"
            ]
          },
          "metadata": {
            "tags": []
          },
          "execution_count": 122
        },
        {
          "output_type": "display_data",
          "data": {
            "image/png": "[encoded data removed]",
            "text/plain": [
              "<Figure size 432x288 with 1 Axes>"
            ]
          },
          "metadata": {
            "tags": [],
            "needs_background": "light"
          }
        }
      ]
    },
    {
      "cell_type": "markdown",
      "metadata": {
        "id": "4goxjPdnZ6VX",
        "colab_type": "text"
      },
      "source": [
        "###**3.2**"
      ]
    },
    {
      "cell_type": "markdown",
      "metadata": {
        "id": "LazjPggMah2p",
        "colab_type": "text"
      },
      "source": [
        "***CAPM Analysis and Beta Calculation using regression***\n",
        "\n",
        "\n",
        "*   Beta is a measure of a stock's volatility in relation to the overall market\n",
        "*   The formula for calculating beta is the covariance of the return of an asset with the return of the benchmark divided by the variance of the return of the benchmark over a certain period.\n",
        "\n"
      ]
    },
    {
      "cell_type": "code",
      "metadata": {
        "id": "9Y_MUzTCfbzy",
        "colab_type": "code",
        "colab": {
          "base_uri": "https://localhost:8080/",
          "height": 821
        },
        "outputId": "7444f820-5d24-44ba-be79-3698b950d824"
      },
      "source": [
        "df1=pd.read_csv('/content/week2 (1).csv')\n",
        "df1"
      ],
      "execution_count": null,
      "outputs": [
        {
          "output_type": "execute_result",
          "data": {
            "text/html": [
              "<div>\n",
              "<style scoped>\n",
              "    .dataframe tbody tr th:only-of-type {\n",
              "        vertical-align: middle;\n",
              "    }\n",
              "\n",
              "    .dataframe tbody tr th {\n",
              "        vertical-align: top;\n",
              "    }\n",
              "\n",
              "    .dataframe thead th {\n",
              "        text-align: right;\n",
              "    }\n",
              "</style>\n",
              "<table border=\"1\" class=\"dataframe\">\n",
              "  <thead>\n",
              "    <tr style=\"text-align: right;\">\n",
              "      <th></th>\n",
              "      <th>Symbol</th>\n",
              "      <th>Series</th>\n",
              "      <th>Date</th>\n",
              "      <th>Prev Close</th>\n",
              "      <th>Open Price</th>\n",
              "      <th>High Price</th>\n",
              "      <th>Low Price</th>\n",
              "      <th>Last Price</th>\n",
              "      <th>Close Price</th>\n",
              "      <th>Average Price</th>\n",
              "      <th>Total Traded Quantity</th>\n",
              "      <th>Turnover</th>\n",
              "      <th>No. of Trades</th>\n",
              "      <th>Deliverable Qty</th>\n",
              "      <th>% Dly Qt to Traded Qty</th>\n",
              "      <th>Month</th>\n",
              "      <th>Year</th>\n",
              "      <th>Day_Perc_Change</th>\n",
              "      <th>Trend</th>\n",
              "    </tr>\n",
              "  </thead>\n",
              "  <tbody>\n",
              "    <tr>\n",
              "      <th>0</th>\n",
              "      <td>HINDUNILVR</td>\n",
              "      <td>EQ</td>\n",
              "      <td>15-May-2017</td>\n",
              "      <td>980.20</td>\n",
              "      <td>981.30</td>\n",
              "      <td>988.85</td>\n",
              "      <td>974.55</td>\n",
              "      <td>982.50</td>\n",
              "      <td>983.25</td>\n",
              "      <td>980.72</td>\n",
              "      <td>734446</td>\n",
              "      <td>7.202888e+08</td>\n",
              "      <td>32976</td>\n",
              "      <td>420159</td>\n",
              "      <td>57.21</td>\n",
              "      <td>5</td>\n",
              "      <td>2017</td>\n",
              "      <td>0.000000</td>\n",
              "      <td>Slight or No change</td>\n",
              "    </tr>\n",
              "    <tr>\n",
              "      <th>1</th>\n",
              "      <td>HINDUNILVR</td>\n",
              "      <td>EQ</td>\n",
              "      <td>16-May-2017</td>\n",
              "      <td>983.25</td>\n",
              "      <td>983.00</td>\n",
              "      <td>1002.50</td>\n",
              "      <td>982.05</td>\n",
              "      <td>999.50</td>\n",
              "      <td>1000.40</td>\n",
              "      <td>994.00</td>\n",
              "      <td>1503815</td>\n",
              "      <td>1.494798e+09</td>\n",
              "      <td>39717</td>\n",
              "      <td>669576</td>\n",
              "      <td>44.53</td>\n",
              "      <td>5</td>\n",
              "      <td>2017</td>\n",
              "      <td>1.744216</td>\n",
              "      <td>positive</td>\n",
              "    </tr>\n",
              "    <tr>\n",
              "      <th>2</th>\n",
              "      <td>HINDUNILVR</td>\n",
              "      <td>EQ</td>\n",
              "      <td>17-May-2017</td>\n",
              "      <td>1000.40</td>\n",
              "      <td>1004.00</td>\n",
              "      <td>1012.00</td>\n",
              "      <td>991.10</td>\n",
              "      <td>1009.00</td>\n",
              "      <td>1009.40</td>\n",
              "      <td>1003.84</td>\n",
              "      <td>1999387</td>\n",
              "      <td>2.007056e+09</td>\n",
              "      <td>63210</td>\n",
              "      <td>996054</td>\n",
              "      <td>49.82</td>\n",
              "      <td>5</td>\n",
              "      <td>2017</td>\n",
              "      <td>0.899640</td>\n",
              "      <td>Slight positive</td>\n",
              "    </tr>\n",
              "    <tr>\n",
              "      <th>3</th>\n",
              "      <td>HINDUNILVR</td>\n",
              "      <td>EQ</td>\n",
              "      <td>18-May-2017</td>\n",
              "      <td>1009.40</td>\n",
              "      <td>1008.00</td>\n",
              "      <td>1009.00</td>\n",
              "      <td>983.00</td>\n",
              "      <td>987.50</td>\n",
              "      <td>990.25</td>\n",
              "      <td>997.56</td>\n",
              "      <td>2690943</td>\n",
              "      <td>2.684374e+09</td>\n",
              "      <td>78098</td>\n",
              "      <td>983594</td>\n",
              "      <td>36.55</td>\n",
              "      <td>5</td>\n",
              "      <td>2017</td>\n",
              "      <td>-1.897167</td>\n",
              "      <td>Other</td>\n",
              "    </tr>\n",
              "    <tr>\n",
              "      <th>4</th>\n",
              "      <td>HINDUNILVR</td>\n",
              "      <td>EQ</td>\n",
              "      <td>19-May-2017</td>\n",
              "      <td>990.25</td>\n",
              "      <td>1000.00</td>\n",
              "      <td>1022.75</td>\n",
              "      <td>1000.00</td>\n",
              "      <td>1004.10</td>\n",
              "      <td>1008.00</td>\n",
              "      <td>1009.97</td>\n",
              "      <td>3059815</td>\n",
              "      <td>3.090316e+09</td>\n",
              "      <td>57429</td>\n",
              "      <td>1523108</td>\n",
              "      <td>49.78</td>\n",
              "      <td>5</td>\n",
              "      <td>2017</td>\n",
              "      <td>1.792477</td>\n",
              "      <td>positive</td>\n",
              "    </tr>\n",
              "    <tr>\n",
              "      <th>...</th>\n",
              "      <td>...</td>\n",
              "      <td>...</td>\n",
              "      <td>...</td>\n",
              "      <td>...</td>\n",
              "      <td>...</td>\n",
              "      <td>...</td>\n",
              "      <td>...</td>\n",
              "      <td>...</td>\n",
              "      <td>...</td>\n",
              "      <td>...</td>\n",
              "      <td>...</td>\n",
              "      <td>...</td>\n",
              "      <td>...</td>\n",
              "      <td>...</td>\n",
              "      <td>...</td>\n",
              "      <td>...</td>\n",
              "      <td>...</td>\n",
              "      <td>...</td>\n",
              "      <td>...</td>\n",
              "    </tr>\n",
              "    <tr>\n",
              "      <th>489</th>\n",
              "      <td>HINDUNILVR</td>\n",
              "      <td>EQ</td>\n",
              "      <td>07-May-2019</td>\n",
              "      <td>1668.90</td>\n",
              "      <td>1678.80</td>\n",
              "      <td>1710.90</td>\n",
              "      <td>1672.50</td>\n",
              "      <td>1697.50</td>\n",
              "      <td>1697.50</td>\n",
              "      <td>1700.33</td>\n",
              "      <td>2212617</td>\n",
              "      <td>3.762183e+09</td>\n",
              "      <td>83971</td>\n",
              "      <td>1248858</td>\n",
              "      <td>56.44</td>\n",
              "      <td>5</td>\n",
              "      <td>2019</td>\n",
              "      <td>1.713704</td>\n",
              "      <td>positive</td>\n",
              "    </tr>\n",
              "    <tr>\n",
              "      <th>490</th>\n",
              "      <td>HINDUNILVR</td>\n",
              "      <td>EQ</td>\n",
              "      <td>08-May-2019</td>\n",
              "      <td>1697.50</td>\n",
              "      <td>1697.50</td>\n",
              "      <td>1697.50</td>\n",
              "      <td>1675.00</td>\n",
              "      <td>1690.15</td>\n",
              "      <td>1688.70</td>\n",
              "      <td>1686.13</td>\n",
              "      <td>1243338</td>\n",
              "      <td>2.096428e+09</td>\n",
              "      <td>105328</td>\n",
              "      <td>849935</td>\n",
              "      <td>68.36</td>\n",
              "      <td>5</td>\n",
              "      <td>2019</td>\n",
              "      <td>-0.518409</td>\n",
              "      <td>Other</td>\n",
              "    </tr>\n",
              "    <tr>\n",
              "      <th>491</th>\n",
              "      <td>HINDUNILVR</td>\n",
              "      <td>EQ</td>\n",
              "      <td>09-May-2019</td>\n",
              "      <td>1688.70</td>\n",
              "      <td>1680.10</td>\n",
              "      <td>1713.00</td>\n",
              "      <td>1677.00</td>\n",
              "      <td>1702.45</td>\n",
              "      <td>1703.75</td>\n",
              "      <td>1695.24</td>\n",
              "      <td>1204995</td>\n",
              "      <td>2.042757e+09</td>\n",
              "      <td>96629</td>\n",
              "      <td>821111</td>\n",
              "      <td>68.14</td>\n",
              "      <td>5</td>\n",
              "      <td>2019</td>\n",
              "      <td>0.891218</td>\n",
              "      <td>Slight positive</td>\n",
              "    </tr>\n",
              "    <tr>\n",
              "      <th>492</th>\n",
              "      <td>HINDUNILVR</td>\n",
              "      <td>EQ</td>\n",
              "      <td>10-May-2019</td>\n",
              "      <td>1703.75</td>\n",
              "      <td>1708.95</td>\n",
              "      <td>1709.00</td>\n",
              "      <td>1678.50</td>\n",
              "      <td>1686.00</td>\n",
              "      <td>1687.45</td>\n",
              "      <td>1694.39</td>\n",
              "      <td>1000696</td>\n",
              "      <td>1.695567e+09</td>\n",
              "      <td>98364</td>\n",
              "      <td>581135</td>\n",
              "      <td>58.07</td>\n",
              "      <td>5</td>\n",
              "      <td>2019</td>\n",
              "      <td>-0.956713</td>\n",
              "      <td>Other</td>\n",
              "    </tr>\n",
              "    <tr>\n",
              "      <th>493</th>\n",
              "      <td>HINDUNILVR</td>\n",
              "      <td>EQ</td>\n",
              "      <td>13-May-2019</td>\n",
              "      <td>1687.45</td>\n",
              "      <td>1692.00</td>\n",
              "      <td>1717.00</td>\n",
              "      <td>1688.70</td>\n",
              "      <td>1699.10</td>\n",
              "      <td>1702.00</td>\n",
              "      <td>1705.60</td>\n",
              "      <td>1160287</td>\n",
              "      <td>1.978984e+09</td>\n",
              "      <td>55814</td>\n",
              "      <td>653294</td>\n",
              "      <td>56.30</td>\n",
              "      <td>5</td>\n",
              "      <td>2019</td>\n",
              "      <td>0.862248</td>\n",
              "      <td>Slight positive</td>\n",
              "    </tr>\n",
              "  </tbody>\n",
              "</table>\n",
              "<p>494 rows × 19 columns</p>\n",
              "</div>"
            ],
            "text/plain": [
              "         Symbol Series         Date  ...  Year  Day_Perc_Change                Trend\n",
              "0    HINDUNILVR     EQ  15-May-2017  ...  2017         0.000000  Slight or No change\n",
              "1    HINDUNILVR     EQ  16-May-2017  ...  2017         1.744216             positive\n",
              "2    HINDUNILVR     EQ  17-May-2017  ...  2017         0.899640      Slight positive\n",
              "3    HINDUNILVR     EQ  18-May-2017  ...  2017        -1.897167                Other\n",
              "4    HINDUNILVR     EQ  19-May-2017  ...  2017         1.792477             positive\n",
              "..          ...    ...          ...  ...   ...              ...                  ...\n",
              "489  HINDUNILVR     EQ  07-May-2019  ...  2019         1.713704             positive\n",
              "490  HINDUNILVR     EQ  08-May-2019  ...  2019        -0.518409                Other\n",
              "491  HINDUNILVR     EQ  09-May-2019  ...  2019         0.891218      Slight positive\n",
              "492  HINDUNILVR     EQ  10-May-2019  ...  2019        -0.956713                Other\n",
              "493  HINDUNILVR     EQ  13-May-2019  ...  2019         0.862248      Slight positive\n",
              "\n",
              "[494 rows x 19 columns]"
            ]
          },
          "metadata": {
            "tags": []
          },
          "execution_count": 123
        }
      ]
    },
    {
      "cell_type": "code",
      "metadata": {
        "id": "zo0AL1Uyb7eG",
        "colab_type": "code",
        "colab": {
          "base_uri": "https://localhost:8080/",
          "height": 407
        },
        "outputId": "d40b95b9-895a-40c6-8401-9bbdaca883f5"
      },
      "source": [
        "df_nifty=pd.read_csv('/content/Nifty50.csv')\n",
        "df_nifty"
      ],
      "execution_count": null,
      "outputs": [
        {
          "output_type": "execute_result",
          "data": {
            "text/html": [
              "<div>\n",
              "<style scoped>\n",
              "    .dataframe tbody tr th:only-of-type {\n",
              "        vertical-align: middle;\n",
              "    }\n",
              "\n",
              "    .dataframe tbody tr th {\n",
              "        vertical-align: top;\n",
              "    }\n",
              "\n",
              "    .dataframe thead th {\n",
              "        text-align: right;\n",
              "    }\n",
              "</style>\n",
              "<table border=\"1\" class=\"dataframe\">\n",
              "  <thead>\n",
              "    <tr style=\"text-align: right;\">\n",
              "      <th></th>\n",
              "      <th>Date</th>\n",
              "      <th>Open</th>\n",
              "      <th>High</th>\n",
              "      <th>Low</th>\n",
              "      <th>Close</th>\n",
              "      <th>Shares Traded</th>\n",
              "      <th>Turnover (Rs. Cr)</th>\n",
              "    </tr>\n",
              "  </thead>\n",
              "  <tbody>\n",
              "    <tr>\n",
              "      <th>0</th>\n",
              "      <td>15-May-17</td>\n",
              "      <td>9433.55</td>\n",
              "      <td>9449.25</td>\n",
              "      <td>9423.10</td>\n",
              "      <td>9445.40</td>\n",
              "      <td>145163953</td>\n",
              "      <td>7790.97</td>\n",
              "    </tr>\n",
              "    <tr>\n",
              "      <th>1</th>\n",
              "      <td>16-May-17</td>\n",
              "      <td>9461.00</td>\n",
              "      <td>9517.20</td>\n",
              "      <td>9456.35</td>\n",
              "      <td>9512.25</td>\n",
              "      <td>171709433</td>\n",
              "      <td>9209.89</td>\n",
              "    </tr>\n",
              "    <tr>\n",
              "      <th>2</th>\n",
              "      <td>17-May-17</td>\n",
              "      <td>9517.60</td>\n",
              "      <td>9532.60</td>\n",
              "      <td>9486.10</td>\n",
              "      <td>9525.75</td>\n",
              "      <td>211856040</td>\n",
              "      <td>10726.23</td>\n",
              "    </tr>\n",
              "    <tr>\n",
              "      <th>3</th>\n",
              "      <td>18-May-17</td>\n",
              "      <td>9453.20</td>\n",
              "      <td>9489.10</td>\n",
              "      <td>9418.10</td>\n",
              "      <td>9429.45</td>\n",
              "      <td>199340647</td>\n",
              "      <td>10782.46</td>\n",
              "    </tr>\n",
              "    <tr>\n",
              "      <th>4</th>\n",
              "      <td>19-May-17</td>\n",
              "      <td>9469.90</td>\n",
              "      <td>9505.75</td>\n",
              "      <td>9390.75</td>\n",
              "      <td>9427.90</td>\n",
              "      <td>259861396</td>\n",
              "      <td>11544.77</td>\n",
              "    </tr>\n",
              "    <tr>\n",
              "      <th>...</th>\n",
              "      <td>...</td>\n",
              "      <td>...</td>\n",
              "      <td>...</td>\n",
              "      <td>...</td>\n",
              "      <td>...</td>\n",
              "      <td>...</td>\n",
              "      <td>...</td>\n",
              "    </tr>\n",
              "    <tr>\n",
              "      <th>489</th>\n",
              "      <td>7-May-19</td>\n",
              "      <td>11651.50</td>\n",
              "      <td>11657.05</td>\n",
              "      <td>11484.45</td>\n",
              "      <td>11497.90</td>\n",
              "      <td>337495624</td>\n",
              "      <td>16632.84</td>\n",
              "    </tr>\n",
              "    <tr>\n",
              "      <th>490</th>\n",
              "      <td>8-May-19</td>\n",
              "      <td>11478.70</td>\n",
              "      <td>11479.10</td>\n",
              "      <td>11346.95</td>\n",
              "      <td>11359.45</td>\n",
              "      <td>372826025</td>\n",
              "      <td>17440.01</td>\n",
              "    </tr>\n",
              "    <tr>\n",
              "      <th>491</th>\n",
              "      <td>9-May-19</td>\n",
              "      <td>11322.40</td>\n",
              "      <td>11357.60</td>\n",
              "      <td>11255.05</td>\n",
              "      <td>11301.80</td>\n",
              "      <td>373028059</td>\n",
              "      <td>17602.86</td>\n",
              "    </tr>\n",
              "    <tr>\n",
              "      <th>492</th>\n",
              "      <td>10-May-19</td>\n",
              "      <td>11314.15</td>\n",
              "      <td>11345.80</td>\n",
              "      <td>11251.05</td>\n",
              "      <td>11278.90</td>\n",
              "      <td>387323416</td>\n",
              "      <td>18085.19</td>\n",
              "    </tr>\n",
              "    <tr>\n",
              "      <th>493</th>\n",
              "      <td>13-May-19</td>\n",
              "      <td>11258.70</td>\n",
              "      <td>11300.20</td>\n",
              "      <td>11125.60</td>\n",
              "      <td>11148.20</td>\n",
              "      <td>357586433</td>\n",
              "      <td>16722.91</td>\n",
              "    </tr>\n",
              "  </tbody>\n",
              "</table>\n",
              "<p>494 rows × 7 columns</p>\n",
              "</div>"
            ],
            "text/plain": [
              "          Date      Open      High  ...     Close  Shares Traded  Turnover (Rs. Cr)\n",
              "0    15-May-17   9433.55   9449.25  ...   9445.40      145163953            7790.97\n",
              "1    16-May-17   9461.00   9517.20  ...   9512.25      171709433            9209.89\n",
              "2    17-May-17   9517.60   9532.60  ...   9525.75      211856040           10726.23\n",
              "3    18-May-17   9453.20   9489.10  ...   9429.45      199340647           10782.46\n",
              "4    19-May-17   9469.90   9505.75  ...   9427.90      259861396           11544.77\n",
              "..         ...       ...       ...  ...       ...            ...                ...\n",
              "489   7-May-19  11651.50  11657.05  ...  11497.90      337495624           16632.84\n",
              "490   8-May-19  11478.70  11479.10  ...  11359.45      372826025           17440.01\n",
              "491   9-May-19  11322.40  11357.60  ...  11301.80      373028059           17602.86\n",
              "492  10-May-19  11314.15  11345.80  ...  11278.90      387323416           18085.19\n",
              "493  13-May-19  11258.70  11300.20  ...  11148.20      357586433           16722.91\n",
              "\n",
              "[494 rows x 7 columns]"
            ]
          },
          "metadata": {
            "tags": []
          },
          "execution_count": 124
        }
      ]
    },
    {
      "cell_type": "markdown",
      "metadata": {
        "id": "D8Z69_SV6z06",
        "colab_type": "text"
      },
      "source": [
        "CREATE A NEW COLUMN CONSISTING OF THE RETURNS"
      ]
    },
    {
      "cell_type": "code",
      "metadata": {
        "id": "nObT7IiizED-",
        "colab_type": "code",
        "colab": {
          "base_uri": "https://localhost:8080/",
          "height": 907
        },
        "outputId": "ac2cc40b-b373-45cc-fcc8-75026b8e0756"
      },
      "source": [
        "df1['returns1']=df1['Close Price'].pct_change()\n",
        "df1['returns1'][0]=0\n",
        "df1"
      ],
      "execution_count": null,
      "outputs": [
        {
          "output_type": "stream",
          "text": [
            "/usr/local/lib/python3.6/dist-packages/ipykernel_launcher.py:2: SettingWithCopyWarning: \n",
            "A value is trying to be set on a copy of a slice from a DataFrame\n",
            "\n",
            "See the caveats in the documentation: https://pandas.pydata.org/pandas-docs/stable/user_guide/indexing.html#returning-a-view-versus-a-copy\n",
            "  \n"
          ],
          "name": "stderr"
        },
        {
          "output_type": "execute_result",
          "data": {
            "text/html": [
              "<div>\n",
              "<style scoped>\n",
              "    .dataframe tbody tr th:only-of-type {\n",
              "        vertical-align: middle;\n",
              "    }\n",
              "\n",
              "    .dataframe tbody tr th {\n",
              "        vertical-align: top;\n",
              "    }\n",
              "\n",
              "    .dataframe thead th {\n",
              "        text-align: right;\n",
              "    }\n",
              "</style>\n",
              "<table border=\"1\" class=\"dataframe\">\n",
              "  <thead>\n",
              "    <tr style=\"text-align: right;\">\n",
              "      <th></th>\n",
              "      <th>Symbol</th>\n",
              "      <th>Series</th>\n",
              "      <th>Date</th>\n",
              "      <th>Prev Close</th>\n",
              "      <th>Open Price</th>\n",
              "      <th>High Price</th>\n",
              "      <th>Low Price</th>\n",
              "      <th>Last Price</th>\n",
              "      <th>Close Price</th>\n",
              "      <th>Average Price</th>\n",
              "      <th>Total Traded Quantity</th>\n",
              "      <th>Turnover</th>\n",
              "      <th>No. of Trades</th>\n",
              "      <th>Deliverable Qty</th>\n",
              "      <th>% Dly Qt to Traded Qty</th>\n",
              "      <th>Month</th>\n",
              "      <th>Year</th>\n",
              "      <th>Day_Perc_Change</th>\n",
              "      <th>Trend</th>\n",
              "      <th>returns1</th>\n",
              "    </tr>\n",
              "  </thead>\n",
              "  <tbody>\n",
              "    <tr>\n",
              "      <th>0</th>\n",
              "      <td>HINDUNILVR</td>\n",
              "      <td>EQ</td>\n",
              "      <td>15-May-2017</td>\n",
              "      <td>980.20</td>\n",
              "      <td>981.30</td>\n",
              "      <td>988.85</td>\n",
              "      <td>974.55</td>\n",
              "      <td>982.50</td>\n",
              "      <td>983.25</td>\n",
              "      <td>980.72</td>\n",
              "      <td>734446</td>\n",
              "      <td>7.202888e+08</td>\n",
              "      <td>32976</td>\n",
              "      <td>420159</td>\n",
              "      <td>57.21</td>\n",
              "      <td>5</td>\n",
              "      <td>2017</td>\n",
              "      <td>0.000000</td>\n",
              "      <td>Slight or No change</td>\n",
              "      <td>0.000000</td>\n",
              "    </tr>\n",
              "    <tr>\n",
              "      <th>1</th>\n",
              "      <td>HINDUNILVR</td>\n",
              "      <td>EQ</td>\n",
              "      <td>16-May-2017</td>\n",
              "      <td>983.25</td>\n",
              "      <td>983.00</td>\n",
              "      <td>1002.50</td>\n",
              "      <td>982.05</td>\n",
              "      <td>999.50</td>\n",
              "      <td>1000.40</td>\n",
              "      <td>994.00</td>\n",
              "      <td>1503815</td>\n",
              "      <td>1.494798e+09</td>\n",
              "      <td>39717</td>\n",
              "      <td>669576</td>\n",
              "      <td>44.53</td>\n",
              "      <td>5</td>\n",
              "      <td>2017</td>\n",
              "      <td>1.744216</td>\n",
              "      <td>positive</td>\n",
              "      <td>0.017442</td>\n",
              "    </tr>\n",
              "    <tr>\n",
              "      <th>2</th>\n",
              "      <td>HINDUNILVR</td>\n",
              "      <td>EQ</td>\n",
              "      <td>17-May-2017</td>\n",
              "      <td>1000.40</td>\n",
              "      <td>1004.00</td>\n",
              "      <td>1012.00</td>\n",
              "      <td>991.10</td>\n",
              "      <td>1009.00</td>\n",
              "      <td>1009.40</td>\n",
              "      <td>1003.84</td>\n",
              "      <td>1999387</td>\n",
              "      <td>2.007056e+09</td>\n",
              "      <td>63210</td>\n",
              "      <td>996054</td>\n",
              "      <td>49.82</td>\n",
              "      <td>5</td>\n",
              "      <td>2017</td>\n",
              "      <td>0.899640</td>\n",
              "      <td>Slight positive</td>\n",
              "      <td>0.008996</td>\n",
              "    </tr>\n",
              "    <tr>\n",
              "      <th>3</th>\n",
              "      <td>HINDUNILVR</td>\n",
              "      <td>EQ</td>\n",
              "      <td>18-May-2017</td>\n",
              "      <td>1009.40</td>\n",
              "      <td>1008.00</td>\n",
              "      <td>1009.00</td>\n",
              "      <td>983.00</td>\n",
              "      <td>987.50</td>\n",
              "      <td>990.25</td>\n",
              "      <td>997.56</td>\n",
              "      <td>2690943</td>\n",
              "      <td>2.684374e+09</td>\n",
              "      <td>78098</td>\n",
              "      <td>983594</td>\n",
              "      <td>36.55</td>\n",
              "      <td>5</td>\n",
              "      <td>2017</td>\n",
              "      <td>-1.897167</td>\n",
              "      <td>Other</td>\n",
              "      <td>-0.018972</td>\n",
              "    </tr>\n",
              "    <tr>\n",
              "      <th>4</th>\n",
              "      <td>HINDUNILVR</td>\n",
              "      <td>EQ</td>\n",
              "      <td>19-May-2017</td>\n",
              "      <td>990.25</td>\n",
              "      <td>1000.00</td>\n",
              "      <td>1022.75</td>\n",
              "      <td>1000.00</td>\n",
              "      <td>1004.10</td>\n",
              "      <td>1008.00</td>\n",
              "      <td>1009.97</td>\n",
              "      <td>3059815</td>\n",
              "      <td>3.090316e+09</td>\n",
              "      <td>57429</td>\n",
              "      <td>1523108</td>\n",
              "      <td>49.78</td>\n",
              "      <td>5</td>\n",
              "      <td>2017</td>\n",
              "      <td>1.792477</td>\n",
              "      <td>positive</td>\n",
              "      <td>0.017925</td>\n",
              "    </tr>\n",
              "    <tr>\n",
              "      <th>...</th>\n",
              "      <td>...</td>\n",
              "      <td>...</td>\n",
              "      <td>...</td>\n",
              "      <td>...</td>\n",
              "      <td>...</td>\n",
              "      <td>...</td>\n",
              "      <td>...</td>\n",
              "      <td>...</td>\n",
              "      <td>...</td>\n",
              "      <td>...</td>\n",
              "      <td>...</td>\n",
              "      <td>...</td>\n",
              "      <td>...</td>\n",
              "      <td>...</td>\n",
              "      <td>...</td>\n",
              "      <td>...</td>\n",
              "      <td>...</td>\n",
              "      <td>...</td>\n",
              "      <td>...</td>\n",
              "      <td>...</td>\n",
              "    </tr>\n",
              "    <tr>\n",
              "      <th>489</th>\n",
              "      <td>HINDUNILVR</td>\n",
              "      <td>EQ</td>\n",
              "      <td>07-May-2019</td>\n",
              "      <td>1668.90</td>\n",
              "      <td>1678.80</td>\n",
              "      <td>1710.90</td>\n",
              "      <td>1672.50</td>\n",
              "      <td>1697.50</td>\n",
              "      <td>1697.50</td>\n",
              "      <td>1700.33</td>\n",
              "      <td>2212617</td>\n",
              "      <td>3.762183e+09</td>\n",
              "      <td>83971</td>\n",
              "      <td>1248858</td>\n",
              "      <td>56.44</td>\n",
              "      <td>5</td>\n",
              "      <td>2019</td>\n",
              "      <td>1.713704</td>\n",
              "      <td>positive</td>\n",
              "      <td>0.017137</td>\n",
              "    </tr>\n",
              "    <tr>\n",
              "      <th>490</th>\n",
              "      <td>HINDUNILVR</td>\n",
              "      <td>EQ</td>\n",
              "      <td>08-May-2019</td>\n",
              "      <td>1697.50</td>\n",
              "      <td>1697.50</td>\n",
              "      <td>1697.50</td>\n",
              "      <td>1675.00</td>\n",
              "      <td>1690.15</td>\n",
              "      <td>1688.70</td>\n",
              "      <td>1686.13</td>\n",
              "      <td>1243338</td>\n",
              "      <td>2.096428e+09</td>\n",
              "      <td>105328</td>\n",
              "      <td>849935</td>\n",
              "      <td>68.36</td>\n",
              "      <td>5</td>\n",
              "      <td>2019</td>\n",
              "      <td>-0.518409</td>\n",
              "      <td>Other</td>\n",
              "      <td>-0.005184</td>\n",
              "    </tr>\n",
              "    <tr>\n",
              "      <th>491</th>\n",
              "      <td>HINDUNILVR</td>\n",
              "      <td>EQ</td>\n",
              "      <td>09-May-2019</td>\n",
              "      <td>1688.70</td>\n",
              "      <td>1680.10</td>\n",
              "      <td>1713.00</td>\n",
              "      <td>1677.00</td>\n",
              "      <td>1702.45</td>\n",
              "      <td>1703.75</td>\n",
              "      <td>1695.24</td>\n",
              "      <td>1204995</td>\n",
              "      <td>2.042757e+09</td>\n",
              "      <td>96629</td>\n",
              "      <td>821111</td>\n",
              "      <td>68.14</td>\n",
              "      <td>5</td>\n",
              "      <td>2019</td>\n",
              "      <td>0.891218</td>\n",
              "      <td>Slight positive</td>\n",
              "      <td>0.008912</td>\n",
              "    </tr>\n",
              "    <tr>\n",
              "      <th>492</th>\n",
              "      <td>HINDUNILVR</td>\n",
              "      <td>EQ</td>\n",
              "      <td>10-May-2019</td>\n",
              "      <td>1703.75</td>\n",
              "      <td>1708.95</td>\n",
              "      <td>1709.00</td>\n",
              "      <td>1678.50</td>\n",
              "      <td>1686.00</td>\n",
              "      <td>1687.45</td>\n",
              "      <td>1694.39</td>\n",
              "      <td>1000696</td>\n",
              "      <td>1.695567e+09</td>\n",
              "      <td>98364</td>\n",
              "      <td>581135</td>\n",
              "      <td>58.07</td>\n",
              "      <td>5</td>\n",
              "      <td>2019</td>\n",
              "      <td>-0.956713</td>\n",
              "      <td>Other</td>\n",
              "      <td>-0.009567</td>\n",
              "    </tr>\n",
              "    <tr>\n",
              "      <th>493</th>\n",
              "      <td>HINDUNILVR</td>\n",
              "      <td>EQ</td>\n",
              "      <td>13-May-2019</td>\n",
              "      <td>1687.45</td>\n",
              "      <td>1692.00</td>\n",
              "      <td>1717.00</td>\n",
              "      <td>1688.70</td>\n",
              "      <td>1699.10</td>\n",
              "      <td>1702.00</td>\n",
              "      <td>1705.60</td>\n",
              "      <td>1160287</td>\n",
              "      <td>1.978984e+09</td>\n",
              "      <td>55814</td>\n",
              "      <td>653294</td>\n",
              "      <td>56.30</td>\n",
              "      <td>5</td>\n",
              "      <td>2019</td>\n",
              "      <td>0.862248</td>\n",
              "      <td>Slight positive</td>\n",
              "      <td>0.008622</td>\n",
              "    </tr>\n",
              "  </tbody>\n",
              "</table>\n",
              "<p>494 rows × 20 columns</p>\n",
              "</div>"
            ],
            "text/plain": [
              "         Symbol Series  ...                Trend  returns1\n",
              "0    HINDUNILVR     EQ  ...  Slight or No change  0.000000\n",
              "1    HINDUNILVR     EQ  ...             positive  0.017442\n",
              "2    HINDUNILVR     EQ  ...      Slight positive  0.008996\n",
              "3    HINDUNILVR     EQ  ...                Other -0.018972\n",
              "4    HINDUNILVR     EQ  ...             positive  0.017925\n",
              "..          ...    ...  ...                  ...       ...\n",
              "489  HINDUNILVR     EQ  ...             positive  0.017137\n",
              "490  HINDUNILVR     EQ  ...                Other -0.005184\n",
              "491  HINDUNILVR     EQ  ...      Slight positive  0.008912\n",
              "492  HINDUNILVR     EQ  ...                Other -0.009567\n",
              "493  HINDUNILVR     EQ  ...      Slight positive  0.008622\n",
              "\n",
              "[494 rows x 20 columns]"
            ]
          },
          "metadata": {
            "tags": []
          },
          "execution_count": 125
        }
      ]
    },
    {
      "cell_type": "markdown",
      "metadata": {
        "id": "clpzW2eJ69Eu",
        "colab_type": "text"
      },
      "source": [
        "CREATE A NEW COLUMN CONSISTING OF RETURNS OF NIFTY"
      ]
    },
    {
      "cell_type": "code",
      "metadata": {
        "id": "mttx-AbLd4ms",
        "colab_type": "code",
        "colab": {
          "base_uri": "https://localhost:8080/",
          "height": 650
        },
        "outputId": "9db8e46b-ee6b-4170-9863-6890edb01577"
      },
      "source": [
        "#creating a column in nifty which contains the daily returns\n",
        "df_nifty['returns']=df_nifty['Close'].pct_change()\n",
        "df_nifty['returns'][0]=0\n",
        "df_nifty"
      ],
      "execution_count": null,
      "outputs": [
        {
          "output_type": "stream",
          "text": [
            "/usr/local/lib/python3.6/dist-packages/ipykernel_launcher.py:3: SettingWithCopyWarning: \n",
            "A value is trying to be set on a copy of a slice from a DataFrame\n",
            "\n",
            "See the caveats in the documentation: https://pandas.pydata.org/pandas-docs/stable/user_guide/indexing.html#returning-a-view-versus-a-copy\n",
            "  This is separate from the ipykernel package so we can avoid doing imports until\n"
          ],
          "name": "stderr"
        },
        {
          "output_type": "execute_result",
          "data": {
            "text/html": [
              "<div>\n",
              "<style scoped>\n",
              "    .dataframe tbody tr th:only-of-type {\n",
              "        vertical-align: middle;\n",
              "    }\n",
              "\n",
              "    .dataframe tbody tr th {\n",
              "        vertical-align: top;\n",
              "    }\n",
              "\n",
              "    .dataframe thead th {\n",
              "        text-align: right;\n",
              "    }\n",
              "</style>\n",
              "<table border=\"1\" class=\"dataframe\">\n",
              "  <thead>\n",
              "    <tr style=\"text-align: right;\">\n",
              "      <th></th>\n",
              "      <th>Date</th>\n",
              "      <th>Open</th>\n",
              "      <th>High</th>\n",
              "      <th>Low</th>\n",
              "      <th>Close</th>\n",
              "      <th>Shares Traded</th>\n",
              "      <th>Turnover (Rs. Cr)</th>\n",
              "      <th>returns</th>\n",
              "    </tr>\n",
              "  </thead>\n",
              "  <tbody>\n",
              "    <tr>\n",
              "      <th>0</th>\n",
              "      <td>15-May-17</td>\n",
              "      <td>9433.55</td>\n",
              "      <td>9449.25</td>\n",
              "      <td>9423.10</td>\n",
              "      <td>9445.40</td>\n",
              "      <td>145163953</td>\n",
              "      <td>7790.97</td>\n",
              "      <td>0.000000</td>\n",
              "    </tr>\n",
              "    <tr>\n",
              "      <th>1</th>\n",
              "      <td>16-May-17</td>\n",
              "      <td>9461.00</td>\n",
              "      <td>9517.20</td>\n",
              "      <td>9456.35</td>\n",
              "      <td>9512.25</td>\n",
              "      <td>171709433</td>\n",
              "      <td>9209.89</td>\n",
              "      <td>0.007078</td>\n",
              "    </tr>\n",
              "    <tr>\n",
              "      <th>2</th>\n",
              "      <td>17-May-17</td>\n",
              "      <td>9517.60</td>\n",
              "      <td>9532.60</td>\n",
              "      <td>9486.10</td>\n",
              "      <td>9525.75</td>\n",
              "      <td>211856040</td>\n",
              "      <td>10726.23</td>\n",
              "      <td>0.001419</td>\n",
              "    </tr>\n",
              "    <tr>\n",
              "      <th>3</th>\n",
              "      <td>18-May-17</td>\n",
              "      <td>9453.20</td>\n",
              "      <td>9489.10</td>\n",
              "      <td>9418.10</td>\n",
              "      <td>9429.45</td>\n",
              "      <td>199340647</td>\n",
              "      <td>10782.46</td>\n",
              "      <td>-0.010109</td>\n",
              "    </tr>\n",
              "    <tr>\n",
              "      <th>4</th>\n",
              "      <td>19-May-17</td>\n",
              "      <td>9469.90</td>\n",
              "      <td>9505.75</td>\n",
              "      <td>9390.75</td>\n",
              "      <td>9427.90</td>\n",
              "      <td>259861396</td>\n",
              "      <td>11544.77</td>\n",
              "      <td>-0.000164</td>\n",
              "    </tr>\n",
              "    <tr>\n",
              "      <th>...</th>\n",
              "      <td>...</td>\n",
              "      <td>...</td>\n",
              "      <td>...</td>\n",
              "      <td>...</td>\n",
              "      <td>...</td>\n",
              "      <td>...</td>\n",
              "      <td>...</td>\n",
              "      <td>...</td>\n",
              "    </tr>\n",
              "    <tr>\n",
              "      <th>489</th>\n",
              "      <td>7-May-19</td>\n",
              "      <td>11651.50</td>\n",
              "      <td>11657.05</td>\n",
              "      <td>11484.45</td>\n",
              "      <td>11497.90</td>\n",
              "      <td>337495624</td>\n",
              "      <td>16632.84</td>\n",
              "      <td>-0.008652</td>\n",
              "    </tr>\n",
              "    <tr>\n",
              "      <th>490</th>\n",
              "      <td>8-May-19</td>\n",
              "      <td>11478.70</td>\n",
              "      <td>11479.10</td>\n",
              "      <td>11346.95</td>\n",
              "      <td>11359.45</td>\n",
              "      <td>372826025</td>\n",
              "      <td>17440.01</td>\n",
              "      <td>-0.012041</td>\n",
              "    </tr>\n",
              "    <tr>\n",
              "      <th>491</th>\n",
              "      <td>9-May-19</td>\n",
              "      <td>11322.40</td>\n",
              "      <td>11357.60</td>\n",
              "      <td>11255.05</td>\n",
              "      <td>11301.80</td>\n",
              "      <td>373028059</td>\n",
              "      <td>17602.86</td>\n",
              "      <td>-0.005075</td>\n",
              "    </tr>\n",
              "    <tr>\n",
              "      <th>492</th>\n",
              "      <td>10-May-19</td>\n",
              "      <td>11314.15</td>\n",
              "      <td>11345.80</td>\n",
              "      <td>11251.05</td>\n",
              "      <td>11278.90</td>\n",
              "      <td>387323416</td>\n",
              "      <td>18085.19</td>\n",
              "      <td>-0.002026</td>\n",
              "    </tr>\n",
              "    <tr>\n",
              "      <th>493</th>\n",
              "      <td>13-May-19</td>\n",
              "      <td>11258.70</td>\n",
              "      <td>11300.20</td>\n",
              "      <td>11125.60</td>\n",
              "      <td>11148.20</td>\n",
              "      <td>357586433</td>\n",
              "      <td>16722.91</td>\n",
              "      <td>-0.011588</td>\n",
              "    </tr>\n",
              "  </tbody>\n",
              "</table>\n",
              "<p>494 rows × 8 columns</p>\n",
              "</div>"
            ],
            "text/plain": [
              "          Date      Open      High  ...  Shares Traded  Turnover (Rs. Cr)   returns\n",
              "0    15-May-17   9433.55   9449.25  ...      145163953            7790.97  0.000000\n",
              "1    16-May-17   9461.00   9517.20  ...      171709433            9209.89  0.007078\n",
              "2    17-May-17   9517.60   9532.60  ...      211856040           10726.23  0.001419\n",
              "3    18-May-17   9453.20   9489.10  ...      199340647           10782.46 -0.010109\n",
              "4    19-May-17   9469.90   9505.75  ...      259861396           11544.77 -0.000164\n",
              "..         ...       ...       ...  ...            ...                ...       ...\n",
              "489   7-May-19  11651.50  11657.05  ...      337495624           16632.84 -0.008652\n",
              "490   8-May-19  11478.70  11479.10  ...      372826025           17440.01 -0.012041\n",
              "491   9-May-19  11322.40  11357.60  ...      373028059           17602.86 -0.005075\n",
              "492  10-May-19  11314.15  11345.80  ...      387323416           18085.19 -0.002026\n",
              "493  13-May-19  11258.70  11300.20  ...      357586433           16722.91 -0.011588\n",
              "\n",
              "[494 rows x 8 columns]"
            ]
          },
          "metadata": {
            "tags": []
          },
          "execution_count": 126
        }
      ]
    },
    {
      "cell_type": "markdown",
      "metadata": {
        "id": "RrzvD7gSh0nH",
        "colab_type": "text"
      },
      "source": [
        "CALCULATING BETA FOR LAST 3 MONTHS(90 DAYS)"
      ]
    },
    {
      "cell_type": "code",
      "metadata": {
        "id": "9NWMqS0WcDbU",
        "colab_type": "code",
        "colab": {}
      },
      "source": [
        "#The daily Beta value for the past 3 months. (Daily= Daily returns)\n",
        "\n",
        "y = df1['returns1'].tail(90).values.reshape(-1,1)\n",
        "x = df_nifty['returns'].tail(90).values.reshape(-1,1)\n",
        "X_train, X_test, y_train, y_test = train_test_split(x, y, test_size=0.2, random_state=42)"
      ],
      "execution_count": null,
      "outputs": []
    },
    {
      "cell_type": "code",
      "metadata": {
        "id": "RkAwswtjcqjO",
        "colab_type": "code",
        "colab": {
          "base_uri": "https://localhost:8080/",
          "height": 51
        },
        "outputId": "0593724b-d0e2-4dce-d28f-5929475fa648"
      },
      "source": [
        "reg1 = LinearRegression()  \n",
        "reg1.fit(X_train, y_train) #training the algorithm\n",
        "\n",
        "print(\"INTERCEPT (ALPHA) IS :\",end=\" \")\n",
        "print(reg1.intercept_)\n",
        "print(\"COEFFICIENT (BETA) IS :\",end=\" \")\n",
        "print(reg1.coef_)"
      ],
      "execution_count": null,
      "outputs": [
        {
          "output_type": "stream",
          "text": [
            "INTERCEPT (ALPHA) IS : [-0.00070961]\n",
            "COEFFICIENT (BETA) IS : [[0.40389234]]\n"
          ],
          "name": "stdout"
        }
      ]
    },
    {
      "cell_type": "markdown",
      "metadata": {
        "id": "8lj-vxE1dm9_",
        "colab_type": "text"
      },
      "source": [
        "*   *THE BETA VALUE IS :0.40389234 FOR DAY RETURNS.*\n",
        "*   *THE ALPHA VALUE IS :-0.00070961 FOR DAY RETURNS.*"
      ]
    },
    {
      "cell_type": "code",
      "metadata": {
        "id": "fkbo1ZCNc3Hk",
        "colab_type": "code",
        "colab": {
          "base_uri": "https://localhost:8080/",
          "height": 366
        },
        "outputId": "801d03b6-04df-464e-ccdb-57a54fd11458"
      },
      "source": [
        "y3_pred = reg1.predict(x)\n",
        "print(\"THE LAST TEN PREDICTIONS ARE : \",end=\" \")\n",
        "d = {'col1': df['Pred']}\n",
        "df2 = pd.DataFrame()\n",
        "df2['ACTUAL'] =(df1['Day_Perc_Change'].tail(90))/100\n",
        "df2['PREDICTED'] = y3_pred\n",
        "df2.tail(10)"
      ],
      "execution_count": null,
      "outputs": [
        {
          "output_type": "stream",
          "text": [
            "THE LAST TEN PREDICTIONS ARE :  "
          ],
          "name": "stdout"
        },
        {
          "output_type": "execute_result",
          "data": {
            "text/html": [
              "<div>\n",
              "<style scoped>\n",
              "    .dataframe tbody tr th:only-of-type {\n",
              "        vertical-align: middle;\n",
              "    }\n",
              "\n",
              "    .dataframe tbody tr th {\n",
              "        vertical-align: top;\n",
              "    }\n",
              "\n",
              "    .dataframe thead th {\n",
              "        text-align: right;\n",
              "    }\n",
              "</style>\n",
              "<table border=\"1\" class=\"dataframe\">\n",
              "  <thead>\n",
              "    <tr style=\"text-align: right;\">\n",
              "      <th></th>\n",
              "      <th>ACTUAL</th>\n",
              "      <th>PREDICTED</th>\n",
              "    </tr>\n",
              "  </thead>\n",
              "  <tbody>\n",
              "    <tr>\n",
              "      <th>484</th>\n",
              "      <td>0.007583</td>\n",
              "      <td>0.003206</td>\n",
              "    </tr>\n",
              "    <tr>\n",
              "      <th>485</th>\n",
              "      <td>0.005923</td>\n",
              "      <td>-0.000933</td>\n",
              "    </tr>\n",
              "    <tr>\n",
              "      <th>486</th>\n",
              "      <td>-0.019429</td>\n",
              "      <td>-0.001514</td>\n",
              "    </tr>\n",
              "    <tr>\n",
              "      <th>487</th>\n",
              "      <td>-0.017406</td>\n",
              "      <td>-0.001140</td>\n",
              "    </tr>\n",
              "    <tr>\n",
              "      <th>488</th>\n",
              "      <td>-0.014555</td>\n",
              "      <td>-0.004641</td>\n",
              "    </tr>\n",
              "    <tr>\n",
              "      <th>489</th>\n",
              "      <td>0.017137</td>\n",
              "      <td>-0.004204</td>\n",
              "    </tr>\n",
              "    <tr>\n",
              "      <th>490</th>\n",
              "      <td>-0.005184</td>\n",
              "      <td>-0.005573</td>\n",
              "    </tr>\n",
              "    <tr>\n",
              "      <th>491</th>\n",
              "      <td>0.008912</td>\n",
              "      <td>-0.002759</td>\n",
              "    </tr>\n",
              "    <tr>\n",
              "      <th>492</th>\n",
              "      <td>-0.009567</td>\n",
              "      <td>-0.001528</td>\n",
              "    </tr>\n",
              "    <tr>\n",
              "      <th>493</th>\n",
              "      <td>0.008622</td>\n",
              "      <td>-0.005390</td>\n",
              "    </tr>\n",
              "  </tbody>\n",
              "</table>\n",
              "</div>"
            ],
            "text/plain": [
              "       ACTUAL  PREDICTED\n",
              "484  0.007583   0.003206\n",
              "485  0.005923  -0.000933\n",
              "486 -0.019429  -0.001514\n",
              "487 -0.017406  -0.001140\n",
              "488 -0.014555  -0.004641\n",
              "489  0.017137  -0.004204\n",
              "490 -0.005184  -0.005573\n",
              "491  0.008912  -0.002759\n",
              "492 -0.009567  -0.001528\n",
              "493  0.008622  -0.005390"
            ]
          },
          "metadata": {
            "tags": []
          },
          "execution_count": 129
        }
      ]
    },
    {
      "cell_type": "code",
      "metadata": {
        "id": "KqlJ1yEee7mE",
        "colab_type": "code",
        "colab": {
          "base_uri": "https://localhost:8080/",
          "height": 279
        },
        "outputId": "52c6f11f-235f-48a5-af5e-14b8d2642a79"
      },
      "source": [
        "plt.scatter(x,y,color='brown',label=\"dataset\")\n",
        "plt.plot(x,y3_pred, color='orange',label=\"REGRESSION LINE\")\n",
        "plt.title('predicted Vs actual', fontsize=10)\n",
        "plt.legend()\n",
        "plt.grid(True)\n",
        "plt.show()"
      ],
      "execution_count": null,
      "outputs": [
        {
          "output_type": "display_data",
          "data": {
            "image/png": "[encoded data removed]",
            "text/plain": [
              "<Figure size 432x288 with 1 Axes>"
            ]
          },
          "metadata": {
            "tags": [],
            "needs_background": "light"
          }
        }
      ]
    },
    {
      "cell_type": "markdown",
      "metadata": {
        "id": "Yf77oxwE6iml",
        "colab_type": "text"
      },
      "source": [
        "MONTHLY BETA VALUE PREDICTION"
      ]
    },
    {
      "cell_type": "code",
      "metadata": {
        "id": "lFLVfOJ2fUEj",
        "colab_type": "code",
        "colab": {
          "base_uri": "https://localhost:8080/",
          "height": 847
        },
        "outputId": "f7579f31-7e41-44a3-f89e-319e29b0db4e"
      },
      "source": [
        "df2=pd.DataFrame()\n",
        "print(\"MONTHLY RETURNS OF THE STOCK HINDUSTAN UNILEVER\")\n",
        "df2['Monthly returns']=df1.groupby(['Year','Month']).apply(lambda x: np.average(x['Close Price']))\n",
        "df2"
      ],
      "execution_count": null,
      "outputs": [
        {
          "output_type": "stream",
          "text": [
            "MONTHLY RETURNS OF THE STOCK HINDUSTAN UNILEVER\n"
          ],
          "name": "stdout"
        },
        {
          "output_type": "execute_result",
          "data": {
            "text/html": [
              "<div>\n",
              "<style scoped>\n",
              "    .dataframe tbody tr th:only-of-type {\n",
              "        vertical-align: middle;\n",
              "    }\n",
              "\n",
              "    .dataframe tbody tr th {\n",
              "        vertical-align: top;\n",
              "    }\n",
              "\n",
              "    .dataframe thead th {\n",
              "        text-align: right;\n",
              "    }\n",
              "</style>\n",
              "<table border=\"1\" class=\"dataframe\">\n",
              "  <thead>\n",
              "    <tr style=\"text-align: right;\">\n",
              "      <th></th>\n",
              "      <th></th>\n",
              "      <th>Monthly returns</th>\n",
              "    </tr>\n",
              "    <tr>\n",
              "      <th>Year</th>\n",
              "      <th>Month</th>\n",
              "      <th></th>\n",
              "    </tr>\n",
              "  </thead>\n",
              "  <tbody>\n",
              "    <tr>\n",
              "      <th rowspan=\"8\" valign=\"top\">2017</th>\n",
              "      <th>5</th>\n",
              "      <td>1028.384615</td>\n",
              "    </tr>\n",
              "    <tr>\n",
              "      <th>6</th>\n",
              "      <td>1096.764286</td>\n",
              "    </tr>\n",
              "    <tr>\n",
              "      <th>7</th>\n",
              "      <td>1133.942857</td>\n",
              "    </tr>\n",
              "    <tr>\n",
              "      <th>8</th>\n",
              "      <td>1185.023810</td>\n",
              "    </tr>\n",
              "    <tr>\n",
              "      <th>9</th>\n",
              "      <td>1229.400000</td>\n",
              "    </tr>\n",
              "    <tr>\n",
              "      <th>10</th>\n",
              "      <td>1239.947500</td>\n",
              "    </tr>\n",
              "    <tr>\n",
              "      <th>11</th>\n",
              "      <td>1264.009091</td>\n",
              "    </tr>\n",
              "    <tr>\n",
              "      <th>12</th>\n",
              "      <td>1322.307500</td>\n",
              "    </tr>\n",
              "    <tr>\n",
              "      <th rowspan=\"12\" valign=\"top\">2018</th>\n",
              "      <th>1</th>\n",
              "      <td>1366.327273</td>\n",
              "    </tr>\n",
              "    <tr>\n",
              "      <th>2</th>\n",
              "      <td>1339.431579</td>\n",
              "    </tr>\n",
              "    <tr>\n",
              "      <th>3</th>\n",
              "      <td>1310.942105</td>\n",
              "    </tr>\n",
              "    <tr>\n",
              "      <th>4</th>\n",
              "      <td>1424.426190</td>\n",
              "    </tr>\n",
              "    <tr>\n",
              "      <th>5</th>\n",
              "      <td>1538.561364</td>\n",
              "    </tr>\n",
              "    <tr>\n",
              "      <th>6</th>\n",
              "      <td>1603.819048</td>\n",
              "    </tr>\n",
              "    <tr>\n",
              "      <th>7</th>\n",
              "      <td>1684.140909</td>\n",
              "    </tr>\n",
              "    <tr>\n",
              "      <th>8</th>\n",
              "      <td>1758.142857</td>\n",
              "    </tr>\n",
              "    <tr>\n",
              "      <th>9</th>\n",
              "      <td>1625.877778</td>\n",
              "    </tr>\n",
              "    <tr>\n",
              "      <th>10</th>\n",
              "      <td>1567.716667</td>\n",
              "    </tr>\n",
              "    <tr>\n",
              "      <th>11</th>\n",
              "      <td>1688.152500</td>\n",
              "    </tr>\n",
              "    <tr>\n",
              "      <th>12</th>\n",
              "      <td>1822.995000</td>\n",
              "    </tr>\n",
              "    <tr>\n",
              "      <th rowspan=\"5\" valign=\"top\">2019</th>\n",
              "      <th>1</th>\n",
              "      <td>1767.434783</td>\n",
              "    </tr>\n",
              "    <tr>\n",
              "      <th>2</th>\n",
              "      <td>1781.195000</td>\n",
              "    </tr>\n",
              "    <tr>\n",
              "      <th>3</th>\n",
              "      <td>1704.792105</td>\n",
              "    </tr>\n",
              "    <tr>\n",
              "      <th>4</th>\n",
              "      <td>1711.663158</td>\n",
              "    </tr>\n",
              "    <tr>\n",
              "      <th>5</th>\n",
              "      <td>1695.675000</td>\n",
              "    </tr>\n",
              "  </tbody>\n",
              "</table>\n",
              "</div>"
            ],
            "text/plain": [
              "            Monthly returns\n",
              "Year Month                 \n",
              "2017 5          1028.384615\n",
              "     6          1096.764286\n",
              "     7          1133.942857\n",
              "     8          1185.023810\n",
              "     9          1229.400000\n",
              "     10         1239.947500\n",
              "     11         1264.009091\n",
              "     12         1322.307500\n",
              "2018 1          1366.327273\n",
              "     2          1339.431579\n",
              "     3          1310.942105\n",
              "     4          1424.426190\n",
              "     5          1538.561364\n",
              "     6          1603.819048\n",
              "     7          1684.140909\n",
              "     8          1758.142857\n",
              "     9          1625.877778\n",
              "     10         1567.716667\n",
              "     11         1688.152500\n",
              "     12         1822.995000\n",
              "2019 1          1767.434783\n",
              "     2          1781.195000\n",
              "     3          1704.792105\n",
              "     4          1711.663158\n",
              "     5          1695.675000"
            ]
          },
          "metadata": {
            "tags": []
          },
          "execution_count": 131
        }
      ]
    },
    {
      "cell_type": "code",
      "metadata": {
        "id": "u0K1h3o_FWkC",
        "colab_type": "code",
        "colab": {
          "base_uri": "https://localhost:8080/",
          "height": 513
        },
        "outputId": "3df2edc8-e450-488d-b10a-dc1a2a2b726d"
      },
      "source": [
        "print(\"MONTHLY RETURNS OF THE STOCK HINDUSTAN UNILEVER\")\n",
        "print(\" \")\n",
        "df2['perc_monthly_return']=df2.pct_change()\n",
        "df2['perc_monthly_return'][0]=0\n",
        "print(df2) #returns of the month"
      ],
      "execution_count": null,
      "outputs": [
        {
          "output_type": "stream",
          "text": [
            "MONTHLY RETURNS OF THE STOCK HINDUSTAN UNILEVER\n",
            " \n",
            "            Monthly returns  perc_monthly_return\n",
            "Year Month                                      \n",
            "2017 5          1028.384615             0.000000\n",
            "     6          1096.764286             0.066492\n",
            "     7          1133.942857             0.033898\n",
            "     8          1185.023810             0.045047\n",
            "     9          1229.400000             0.037448\n",
            "     10         1239.947500             0.008579\n",
            "     11         1264.009091             0.019405\n",
            "     12         1322.307500             0.046122\n",
            "2018 1          1366.327273             0.033290\n",
            "     2          1339.431579            -0.019685\n",
            "     3          1310.942105            -0.021270\n",
            "     4          1424.426190             0.086567\n",
            "     5          1538.561364             0.080127\n",
            "     6          1603.819048             0.042415\n",
            "     7          1684.140909             0.050082\n",
            "     8          1758.142857             0.043940\n",
            "     9          1625.877778            -0.075230\n",
            "     10         1567.716667            -0.035772\n",
            "     11         1688.152500             0.076822\n",
            "     12         1822.995000             0.079876\n",
            "2019 1          1767.434783            -0.030477\n",
            "     2          1781.195000             0.007785\n",
            "     3          1704.792105            -0.042894\n",
            "     4          1711.663158             0.004030\n",
            "     5          1695.675000            -0.009341\n"
          ],
          "name": "stdout"
        }
      ]
    },
    {
      "cell_type": "code",
      "metadata": {
        "id": "IIZCvgV2C5M0",
        "colab_type": "code",
        "colab": {
          "base_uri": "https://localhost:8080/",
          "height": 171
        },
        "outputId": "5fd47e97-43ec-4361-df44-daf01f1ff7ae"
      },
      "source": [
        "df_nifty.astype({'Date': 'datetime64[ns]'}).dtypes "
      ],
      "execution_count": null,
      "outputs": [
        {
          "output_type": "execute_result",
          "data": {
            "text/plain": [
              "Date                 datetime64[ns]\n",
              "Open                        float64\n",
              "High                        float64\n",
              "Low                         float64\n",
              "Close                       float64\n",
              "Shares Traded                 int64\n",
              "Turnover (Rs. Cr)           float64\n",
              "returns                     float64\n",
              "dtype: object"
            ]
          },
          "metadata": {
            "tags": []
          },
          "execution_count": 133
        }
      ]
    },
    {
      "cell_type": "code",
      "metadata": {
        "id": "32oFigvLEawa",
        "colab_type": "code",
        "colab": {
          "base_uri": "https://localhost:8080/",
          "height": 767
        },
        "outputId": "2636a948-b3ec-41d3-af31-5f1aba958e77"
      },
      "source": [
        "import datetime\n",
        "df_nifty['Month'] = pd.DatetimeIndex(df_nifty['Date']).month #to extract month from date\n",
        "df_nifty['Year'] = pd.DatetimeIndex(df_nifty['Date']).year    #to extract year from the date\n",
        "df_nifty"
      ],
      "execution_count": null,
      "outputs": [
        {
          "output_type": "execute_result",
          "data": {
            "text/html": [
              "<div>\n",
              "<style scoped>\n",
              "    .dataframe tbody tr th:only-of-type {\n",
              "        vertical-align: middle;\n",
              "    }\n",
              "\n",
              "    .dataframe tbody tr th {\n",
              "        vertical-align: top;\n",
              "    }\n",
              "\n",
              "    .dataframe thead th {\n",
              "        text-align: right;\n",
              "    }\n",
              "</style>\n",
              "<table border=\"1\" class=\"dataframe\">\n",
              "  <thead>\n",
              "    <tr style=\"text-align: right;\">\n",
              "      <th></th>\n",
              "      <th>Date</th>\n",
              "      <th>Open</th>\n",
              "      <th>High</th>\n",
              "      <th>Low</th>\n",
              "      <th>Close</th>\n",
              "      <th>Shares Traded</th>\n",
              "      <th>Turnover (Rs. Cr)</th>\n",
              "      <th>returns</th>\n",
              "      <th>Month</th>\n",
              "      <th>Year</th>\n",
              "    </tr>\n",
              "  </thead>\n",
              "  <tbody>\n",
              "    <tr>\n",
              "      <th>0</th>\n",
              "      <td>15-May-17</td>\n",
              "      <td>9433.55</td>\n",
              "      <td>9449.25</td>\n",
              "      <td>9423.10</td>\n",
              "      <td>9445.40</td>\n",
              "      <td>145163953</td>\n",
              "      <td>7790.97</td>\n",
              "      <td>0.000000</td>\n",
              "      <td>5</td>\n",
              "      <td>2017</td>\n",
              "    </tr>\n",
              "    <tr>\n",
              "      <th>1</th>\n",
              "      <td>16-May-17</td>\n",
              "      <td>9461.00</td>\n",
              "      <td>9517.20</td>\n",
              "      <td>9456.35</td>\n",
              "      <td>9512.25</td>\n",
              "      <td>171709433</td>\n",
              "      <td>9209.89</td>\n",
              "      <td>0.007078</td>\n",
              "      <td>5</td>\n",
              "      <td>2017</td>\n",
              "    </tr>\n",
              "    <tr>\n",
              "      <th>2</th>\n",
              "      <td>17-May-17</td>\n",
              "      <td>9517.60</td>\n",
              "      <td>9532.60</td>\n",
              "      <td>9486.10</td>\n",
              "      <td>9525.75</td>\n",
              "      <td>211856040</td>\n",
              "      <td>10726.23</td>\n",
              "      <td>0.001419</td>\n",
              "      <td>5</td>\n",
              "      <td>2017</td>\n",
              "    </tr>\n",
              "    <tr>\n",
              "      <th>3</th>\n",
              "      <td>18-May-17</td>\n",
              "      <td>9453.20</td>\n",
              "      <td>9489.10</td>\n",
              "      <td>9418.10</td>\n",
              "      <td>9429.45</td>\n",
              "      <td>199340647</td>\n",
              "      <td>10782.46</td>\n",
              "      <td>-0.010109</td>\n",
              "      <td>5</td>\n",
              "      <td>2017</td>\n",
              "    </tr>\n",
              "    <tr>\n",
              "      <th>4</th>\n",
              "      <td>19-May-17</td>\n",
              "      <td>9469.90</td>\n",
              "      <td>9505.75</td>\n",
              "      <td>9390.75</td>\n",
              "      <td>9427.90</td>\n",
              "      <td>259861396</td>\n",
              "      <td>11544.77</td>\n",
              "      <td>-0.000164</td>\n",
              "      <td>5</td>\n",
              "      <td>2017</td>\n",
              "    </tr>\n",
              "    <tr>\n",
              "      <th>...</th>\n",
              "      <td>...</td>\n",
              "      <td>...</td>\n",
              "      <td>...</td>\n",
              "      <td>...</td>\n",
              "      <td>...</td>\n",
              "      <td>...</td>\n",
              "      <td>...</td>\n",
              "      <td>...</td>\n",
              "      <td>...</td>\n",
              "      <td>...</td>\n",
              "    </tr>\n",
              "    <tr>\n",
              "      <th>489</th>\n",
              "      <td>7-May-19</td>\n",
              "      <td>11651.50</td>\n",
              "      <td>11657.05</td>\n",
              "      <td>11484.45</td>\n",
              "      <td>11497.90</td>\n",
              "      <td>337495624</td>\n",
              "      <td>16632.84</td>\n",
              "      <td>-0.008652</td>\n",
              "      <td>5</td>\n",
              "      <td>2019</td>\n",
              "    </tr>\n",
              "    <tr>\n",
              "      <th>490</th>\n",
              "      <td>8-May-19</td>\n",
              "      <td>11478.70</td>\n",
              "      <td>11479.10</td>\n",
              "      <td>11346.95</td>\n",
              "      <td>11359.45</td>\n",
              "      <td>372826025</td>\n",
              "      <td>17440.01</td>\n",
              "      <td>-0.012041</td>\n",
              "      <td>5</td>\n",
              "      <td>2019</td>\n",
              "    </tr>\n",
              "    <tr>\n",
              "      <th>491</th>\n",
              "      <td>9-May-19</td>\n",
              "      <td>11322.40</td>\n",
              "      <td>11357.60</td>\n",
              "      <td>11255.05</td>\n",
              "      <td>11301.80</td>\n",
              "      <td>373028059</td>\n",
              "      <td>17602.86</td>\n",
              "      <td>-0.005075</td>\n",
              "      <td>5</td>\n",
              "      <td>2019</td>\n",
              "    </tr>\n",
              "    <tr>\n",
              "      <th>492</th>\n",
              "      <td>10-May-19</td>\n",
              "      <td>11314.15</td>\n",
              "      <td>11345.80</td>\n",
              "      <td>11251.05</td>\n",
              "      <td>11278.90</td>\n",
              "      <td>387323416</td>\n",
              "      <td>18085.19</td>\n",
              "      <td>-0.002026</td>\n",
              "      <td>5</td>\n",
              "      <td>2019</td>\n",
              "    </tr>\n",
              "    <tr>\n",
              "      <th>493</th>\n",
              "      <td>13-May-19</td>\n",
              "      <td>11258.70</td>\n",
              "      <td>11300.20</td>\n",
              "      <td>11125.60</td>\n",
              "      <td>11148.20</td>\n",
              "      <td>357586433</td>\n",
              "      <td>16722.91</td>\n",
              "      <td>-0.011588</td>\n",
              "      <td>5</td>\n",
              "      <td>2019</td>\n",
              "    </tr>\n",
              "  </tbody>\n",
              "</table>\n",
              "<p>494 rows × 10 columns</p>\n",
              "</div>"
            ],
            "text/plain": [
              "          Date      Open      High  ...   returns  Month  Year\n",
              "0    15-May-17   9433.55   9449.25  ...  0.000000      5  2017\n",
              "1    16-May-17   9461.00   9517.20  ...  0.007078      5  2017\n",
              "2    17-May-17   9517.60   9532.60  ...  0.001419      5  2017\n",
              "3    18-May-17   9453.20   9489.10  ... -0.010109      5  2017\n",
              "4    19-May-17   9469.90   9505.75  ... -0.000164      5  2017\n",
              "..         ...       ...       ...  ...       ...    ...   ...\n",
              "489   7-May-19  11651.50  11657.05  ... -0.008652      5  2019\n",
              "490   8-May-19  11478.70  11479.10  ... -0.012041      5  2019\n",
              "491   9-May-19  11322.40  11357.60  ... -0.005075      5  2019\n",
              "492  10-May-19  11314.15  11345.80  ... -0.002026      5  2019\n",
              "493  13-May-19  11258.70  11300.20  ... -0.011588      5  2019\n",
              "\n",
              "[494 rows x 10 columns]"
            ]
          },
          "metadata": {
            "tags": []
          },
          "execution_count": 134
        }
      ]
    },
    {
      "cell_type": "code",
      "metadata": {
        "id": "eHJ3S4PYEb8x",
        "colab_type": "code",
        "colab": {
          "base_uri": "https://localhost:8080/",
          "height": 864
        },
        "outputId": "3381326b-8d47-472a-c6d0-319ff446ba53"
      },
      "source": [
        "df3=pd.DataFrame()\n",
        "print(\"MONTHLY RETURNS OF NIFTY\")\n",
        "print(\" \")\n",
        "df3['Monthly return']=df_nifty.groupby(['Year','Month']).apply(lambda x: np.average(x['Close']))\n",
        "df3"
      ],
      "execution_count": null,
      "outputs": [
        {
          "output_type": "stream",
          "text": [
            "MONTHLY RETURNS OF NIFTY\n",
            " \n"
          ],
          "name": "stdout"
        },
        {
          "output_type": "execute_result",
          "data": {
            "text/html": [
              "<div>\n",
              "<style scoped>\n",
              "    .dataframe tbody tr th:only-of-type {\n",
              "        vertical-align: middle;\n",
              "    }\n",
              "\n",
              "    .dataframe tbody tr th {\n",
              "        vertical-align: top;\n",
              "    }\n",
              "\n",
              "    .dataframe thead th {\n",
              "        text-align: right;\n",
              "    }\n",
              "</style>\n",
              "<table border=\"1\" class=\"dataframe\">\n",
              "  <thead>\n",
              "    <tr style=\"text-align: right;\">\n",
              "      <th></th>\n",
              "      <th></th>\n",
              "      <th>Monthly return</th>\n",
              "    </tr>\n",
              "    <tr>\n",
              "      <th>Year</th>\n",
              "      <th>Month</th>\n",
              "      <th></th>\n",
              "    </tr>\n",
              "  </thead>\n",
              "  <tbody>\n",
              "    <tr>\n",
              "      <th rowspan=\"8\" valign=\"top\">2017</th>\n",
              "      <th>5</th>\n",
              "      <td>9498.557692</td>\n",
              "    </tr>\n",
              "    <tr>\n",
              "      <th>6</th>\n",
              "      <td>9606.954762</td>\n",
              "    </tr>\n",
              "    <tr>\n",
              "      <th>7</th>\n",
              "      <td>9850.119048</td>\n",
              "    </tr>\n",
              "    <tr>\n",
              "      <th>8</th>\n",
              "      <td>9901.183333</td>\n",
              "    </tr>\n",
              "    <tr>\n",
              "      <th>9</th>\n",
              "      <td>9977.916667</td>\n",
              "    </tr>\n",
              "    <tr>\n",
              "      <th>10</th>\n",
              "      <td>10138.677500</td>\n",
              "    </tr>\n",
              "    <tr>\n",
              "      <th>11</th>\n",
              "      <td>10324.754545</td>\n",
              "    </tr>\n",
              "    <tr>\n",
              "      <th>12</th>\n",
              "      <td>10322.262500</td>\n",
              "    </tr>\n",
              "    <tr>\n",
              "      <th rowspan=\"12\" valign=\"top\">2018</th>\n",
              "      <th>1</th>\n",
              "      <td>10771.154545</td>\n",
              "    </tr>\n",
              "    <tr>\n",
              "      <th>2</th>\n",
              "      <td>10533.105263</td>\n",
              "    </tr>\n",
              "    <tr>\n",
              "      <th>3</th>\n",
              "      <td>10232.618421</td>\n",
              "    </tr>\n",
              "    <tr>\n",
              "      <th>4</th>\n",
              "      <td>10472.933333</td>\n",
              "    </tr>\n",
              "    <tr>\n",
              "      <th>5</th>\n",
              "      <td>10664.447727</td>\n",
              "    </tr>\n",
              "    <tr>\n",
              "      <th>6</th>\n",
              "      <td>10742.973810</td>\n",
              "    </tr>\n",
              "    <tr>\n",
              "      <th>7</th>\n",
              "      <td>10991.156818</td>\n",
              "    </tr>\n",
              "    <tr>\n",
              "      <th>8</th>\n",
              "      <td>11498.440476</td>\n",
              "    </tr>\n",
              "    <tr>\n",
              "      <th>9</th>\n",
              "      <td>11297.058333</td>\n",
              "    </tr>\n",
              "    <tr>\n",
              "      <th>10</th>\n",
              "      <td>10383.809524</td>\n",
              "    </tr>\n",
              "    <tr>\n",
              "      <th>11</th>\n",
              "      <td>10621.792500</td>\n",
              "    </tr>\n",
              "    <tr>\n",
              "      <th>12</th>\n",
              "      <td>10778.442500</td>\n",
              "    </tr>\n",
              "    <tr>\n",
              "      <th rowspan=\"5\" valign=\"top\">2019</th>\n",
              "      <th>1</th>\n",
              "      <td>10809.463043</td>\n",
              "    </tr>\n",
              "    <tr>\n",
              "      <th>2</th>\n",
              "      <td>10833.840000</td>\n",
              "    </tr>\n",
              "    <tr>\n",
              "      <th>3</th>\n",
              "      <td>11317.242105</td>\n",
              "    </tr>\n",
              "    <tr>\n",
              "      <th>4</th>\n",
              "      <td>11666.452632</td>\n",
              "    </tr>\n",
              "    <tr>\n",
              "      <th>5</th>\n",
              "      <td>11452.687500</td>\n",
              "    </tr>\n",
              "  </tbody>\n",
              "</table>\n",
              "</div>"
            ],
            "text/plain": [
              "            Monthly return\n",
              "Year Month                \n",
              "2017 5         9498.557692\n",
              "     6         9606.954762\n",
              "     7         9850.119048\n",
              "     8         9901.183333\n",
              "     9         9977.916667\n",
              "     10       10138.677500\n",
              "     11       10324.754545\n",
              "     12       10322.262500\n",
              "2018 1        10771.154545\n",
              "     2        10533.105263\n",
              "     3        10232.618421\n",
              "     4        10472.933333\n",
              "     5        10664.447727\n",
              "     6        10742.973810\n",
              "     7        10991.156818\n",
              "     8        11498.440476\n",
              "     9        11297.058333\n",
              "     10       10383.809524\n",
              "     11       10621.792500\n",
              "     12       10778.442500\n",
              "2019 1        10809.463043\n",
              "     2        10833.840000\n",
              "     3        11317.242105\n",
              "     4        11666.452632\n",
              "     5        11452.687500"
            ]
          },
          "metadata": {
            "tags": []
          },
          "execution_count": 135
        }
      ]
    },
    {
      "cell_type": "code",
      "metadata": {
        "id": "brFSYhxtE2Tg",
        "colab_type": "code",
        "colab": {
          "base_uri": "https://localhost:8080/",
          "height": 479
        },
        "outputId": "ff456197-6332-44e3-c570-212e15624a89"
      },
      "source": [
        "df3['perc_monthly_returns']=df3.pct_change()\n",
        "df3['perc_monthly_returns'][0]=0\n",
        "print(df3)"
      ],
      "execution_count": null,
      "outputs": [
        {
          "output_type": "stream",
          "text": [
            "            Monthly return  perc_monthly_returns\n",
            "Year Month                                      \n",
            "2017 5         9498.557692              0.000000\n",
            "     6         9606.954762              0.011412\n",
            "     7         9850.119048              0.025311\n",
            "     8         9901.183333              0.005184\n",
            "     9         9977.916667              0.007750\n",
            "     10       10138.677500              0.016112\n",
            "     11       10324.754545              0.018353\n",
            "     12       10322.262500             -0.000241\n",
            "2018 1        10771.154545              0.043488\n",
            "     2        10533.105263             -0.022101\n",
            "     3        10232.618421             -0.028528\n",
            "     4        10472.933333              0.023485\n",
            "     5        10664.447727              0.018287\n",
            "     6        10742.973810              0.007363\n",
            "     7        10991.156818              0.023102\n",
            "     8        11498.440476              0.046154\n",
            "     9        11297.058333             -0.017514\n",
            "     10       10383.809524             -0.080840\n",
            "     11       10621.792500              0.022919\n",
            "     12       10778.442500              0.014748\n",
            "2019 1        10809.463043              0.002878\n",
            "     2        10833.840000              0.002255\n",
            "     3        11317.242105              0.044620\n",
            "     4        11666.452632              0.030857\n",
            "     5        11452.687500             -0.018323\n"
          ],
          "name": "stdout"
        }
      ]
    },
    {
      "cell_type": "code",
      "metadata": {
        "id": "LVHhMQl-F1f4",
        "colab_type": "code",
        "colab": {}
      },
      "source": [
        "#The monthly Beta value. (Monthly= Monthly returns)\n",
        "\n",
        "y = df2['perc_monthly_return'].values.reshape(-1,1)\n",
        "x = df3['perc_monthly_returns'].values.reshape(-1,1)\n",
        "X_train, X_test, y_train, y_test = train_test_split(x, y, test_size=0.2, random_state=42)"
      ],
      "execution_count": null,
      "outputs": []
    },
    {
      "cell_type": "code",
      "metadata": {
        "id": "Ki2gOFVEGCBd",
        "colab_type": "code",
        "colab": {
          "base_uri": "https://localhost:8080/",
          "height": 51
        },
        "outputId": "9db88612-d106-4588-aeca-b204a9e5d446"
      },
      "source": [
        "reg1 = LinearRegression()  \n",
        "reg1.fit(X_train, y_train) #training the algorithm\n",
        "\n",
        "print(\"INTERCEPT (ALPHA) IS :\",end=\" \")\n",
        "print(reg1.intercept_)\n",
        "print(\"COEFFICIENT (BETA) IS :\",end=\" \")\n",
        "print(reg1.coef_)"
      ],
      "execution_count": null,
      "outputs": [
        {
          "output_type": "stream",
          "text": [
            "INTERCEPT (ALPHA) IS : [0.02003885]\n",
            "COEFFICIENT (BETA) IS : [[0.66850356]]\n"
          ],
          "name": "stdout"
        }
      ]
    },
    {
      "cell_type": "markdown",
      "metadata": {
        "id": "RhrqVTPDdDgH",
        "colab_type": "text"
      },
      "source": [
        "\n",
        "\n",
        "*   *THE BETA VALUE IS :0.66850356 FOR MONTHLY RETURNS.*\n",
        "*   *THE ALPHA VALUE IS :0.02003885 FOR MONTHLY RETURNS.*\n",
        "\n",
        "\n",
        "\n",
        "\n",
        "\n",
        "\n",
        "\n",
        "\n",
        "\n"
      ]
    },
    {
      "cell_type": "code",
      "metadata": {
        "id": "xEq9-Ov5GU1T",
        "colab_type": "code",
        "colab": {
          "base_uri": "https://localhost:8080/",
          "height": 847
        },
        "outputId": "e6965afe-f4bb-41c5-8b13-a7b536398cfd"
      },
      "source": [
        "y3_pred = reg1.predict(x)\n",
        "print(\"THE LAST TEN PREDICTIONS ARE : \",end=\" \")\n",
        "df4 = pd.DataFrame()\n",
        "df4['ACTUAL'] =df2['perc_monthly_return']\n",
        "df4['PREDICTED'] = y3_pred\n",
        "df4"
      ],
      "execution_count": null,
      "outputs": [
        {
          "output_type": "stream",
          "text": [
            "THE LAST TEN PREDICTIONS ARE :  "
          ],
          "name": "stdout"
        },
        {
          "output_type": "execute_result",
          "data": {
            "text/html": [
              "<div>\n",
              "<style scoped>\n",
              "    .dataframe tbody tr th:only-of-type {\n",
              "        vertical-align: middle;\n",
              "    }\n",
              "\n",
              "    .dataframe tbody tr th {\n",
              "        vertical-align: top;\n",
              "    }\n",
              "\n",
              "    .dataframe thead th {\n",
              "        text-align: right;\n",
              "    }\n",
              "</style>\n",
              "<table border=\"1\" class=\"dataframe\">\n",
              "  <thead>\n",
              "    <tr style=\"text-align: right;\">\n",
              "      <th></th>\n",
              "      <th></th>\n",
              "      <th>ACTUAL</th>\n",
              "      <th>PREDICTED</th>\n",
              "    </tr>\n",
              "    <tr>\n",
              "      <th>Year</th>\n",
              "      <th>Month</th>\n",
              "      <th></th>\n",
              "      <th></th>\n",
              "    </tr>\n",
              "  </thead>\n",
              "  <tbody>\n",
              "    <tr>\n",
              "      <th rowspan=\"8\" valign=\"top\">2017</th>\n",
              "      <th>5</th>\n",
              "      <td>0.000000</td>\n",
              "      <td>0.020039</td>\n",
              "    </tr>\n",
              "    <tr>\n",
              "      <th>6</th>\n",
              "      <td>0.066492</td>\n",
              "      <td>0.027668</td>\n",
              "    </tr>\n",
              "    <tr>\n",
              "      <th>7</th>\n",
              "      <td>0.033898</td>\n",
              "      <td>0.036960</td>\n",
              "    </tr>\n",
              "    <tr>\n",
              "      <th>8</th>\n",
              "      <td>0.045047</td>\n",
              "      <td>0.023504</td>\n",
              "    </tr>\n",
              "    <tr>\n",
              "      <th>9</th>\n",
              "      <td>0.037448</td>\n",
              "      <td>0.025220</td>\n",
              "    </tr>\n",
              "    <tr>\n",
              "      <th>10</th>\n",
              "      <td>0.008579</td>\n",
              "      <td>0.030810</td>\n",
              "    </tr>\n",
              "    <tr>\n",
              "      <th>11</th>\n",
              "      <td>0.019405</td>\n",
              "      <td>0.032308</td>\n",
              "    </tr>\n",
              "    <tr>\n",
              "      <th>12</th>\n",
              "      <td>0.046122</td>\n",
              "      <td>0.019877</td>\n",
              "    </tr>\n",
              "    <tr>\n",
              "      <th rowspan=\"12\" valign=\"top\">2018</th>\n",
              "      <th>1</th>\n",
              "      <td>0.033290</td>\n",
              "      <td>0.049111</td>\n",
              "    </tr>\n",
              "    <tr>\n",
              "      <th>2</th>\n",
              "      <td>-0.019685</td>\n",
              "      <td>0.005264</td>\n",
              "    </tr>\n",
              "    <tr>\n",
              "      <th>3</th>\n",
              "      <td>-0.021270</td>\n",
              "      <td>0.000968</td>\n",
              "    </tr>\n",
              "    <tr>\n",
              "      <th>4</th>\n",
              "      <td>0.086567</td>\n",
              "      <td>0.035739</td>\n",
              "    </tr>\n",
              "    <tr>\n",
              "      <th>5</th>\n",
              "      <td>0.080127</td>\n",
              "      <td>0.032264</td>\n",
              "    </tr>\n",
              "    <tr>\n",
              "      <th>6</th>\n",
              "      <td>0.042415</td>\n",
              "      <td>0.024961</td>\n",
              "    </tr>\n",
              "    <tr>\n",
              "      <th>7</th>\n",
              "      <td>0.050082</td>\n",
              "      <td>0.035483</td>\n",
              "    </tr>\n",
              "    <tr>\n",
              "      <th>8</th>\n",
              "      <td>0.043940</td>\n",
              "      <td>0.050893</td>\n",
              "    </tr>\n",
              "    <tr>\n",
              "      <th>9</th>\n",
              "      <td>-0.075230</td>\n",
              "      <td>0.008331</td>\n",
              "    </tr>\n",
              "    <tr>\n",
              "      <th>10</th>\n",
              "      <td>-0.035772</td>\n",
              "      <td>-0.034003</td>\n",
              "    </tr>\n",
              "    <tr>\n",
              "      <th>11</th>\n",
              "      <td>0.076822</td>\n",
              "      <td>0.035360</td>\n",
              "    </tr>\n",
              "    <tr>\n",
              "      <th>12</th>\n",
              "      <td>0.079876</td>\n",
              "      <td>0.029898</td>\n",
              "    </tr>\n",
              "    <tr>\n",
              "      <th rowspan=\"5\" valign=\"top\">2019</th>\n",
              "      <th>1</th>\n",
              "      <td>-0.030477</td>\n",
              "      <td>0.021963</td>\n",
              "    </tr>\n",
              "    <tr>\n",
              "      <th>2</th>\n",
              "      <td>0.007785</td>\n",
              "      <td>0.021546</td>\n",
              "    </tr>\n",
              "    <tr>\n",
              "      <th>3</th>\n",
              "      <td>-0.042894</td>\n",
              "      <td>0.049867</td>\n",
              "    </tr>\n",
              "    <tr>\n",
              "      <th>4</th>\n",
              "      <td>0.004030</td>\n",
              "      <td>0.040667</td>\n",
              "    </tr>\n",
              "    <tr>\n",
              "      <th>5</th>\n",
              "      <td>-0.009341</td>\n",
              "      <td>0.007790</td>\n",
              "    </tr>\n",
              "  </tbody>\n",
              "</table>\n",
              "</div>"
            ],
            "text/plain": [
              "              ACTUAL  PREDICTED\n",
              "Year Month                     \n",
              "2017 5      0.000000   0.020039\n",
              "     6      0.066492   0.027668\n",
              "     7      0.033898   0.036960\n",
              "     8      0.045047   0.023504\n",
              "     9      0.037448   0.025220\n",
              "     10     0.008579   0.030810\n",
              "     11     0.019405   0.032308\n",
              "     12     0.046122   0.019877\n",
              "2018 1      0.033290   0.049111\n",
              "     2     -0.019685   0.005264\n",
              "     3     -0.021270   0.000968\n",
              "     4      0.086567   0.035739\n",
              "     5      0.080127   0.032264\n",
              "     6      0.042415   0.024961\n",
              "     7      0.050082   0.035483\n",
              "     8      0.043940   0.050893\n",
              "     9     -0.075230   0.008331\n",
              "     10    -0.035772  -0.034003\n",
              "     11     0.076822   0.035360\n",
              "     12     0.079876   0.029898\n",
              "2019 1     -0.030477   0.021963\n",
              "     2      0.007785   0.021546\n",
              "     3     -0.042894   0.049867\n",
              "     4      0.004030   0.040667\n",
              "     5     -0.009341   0.007790"
            ]
          },
          "metadata": {
            "tags": []
          },
          "execution_count": 139
        }
      ]
    },
    {
      "cell_type": "code",
      "metadata": {
        "id": "JaaWUh-UGg4O",
        "colab_type": "code",
        "colab": {
          "base_uri": "https://localhost:8080/",
          "height": 279
        },
        "outputId": "30320799-eb85-462c-e709-a0ad62c976cc"
      },
      "source": [
        "plt.scatter(x,y,color='brown',label=\"dataset\")\n",
        "plt.plot(x,y3_pred, color='orange',label=\"REGRESSION LINE\")\n",
        "plt.title('predicted Vs actual', fontsize=10)\n",
        "plt.legend()\n",
        "plt.grid(True)\n",
        "plt.show()"
      ],
      "execution_count": null,
      "outputs": [
        {
          "output_type": "display_data",
          "data": {
            "image/png": "[encoded data removed]",
            "text/plain": [
              "<Figure size 432x288 with 1 Axes>"
            ]
          },
          "metadata": {
            "tags": [],
            "needs_background": "light"
          }
        }
      ]
    },
    {
      "cell_type": "code",
      "metadata": {
        "id": "RgHOfMhLJFcX",
        "colab_type": "code",
        "colab": {
          "base_uri": "https://localhost:8080/",
          "height": 51
        },
        "outputId": "f1f3b888-6547-4231-9f78-88ed24f88f74"
      },
      "source": [
        "rmse = np.sqrt(mean_squared_error(y,y3_pred))\n",
        "r2 = r2_score(y,y3_pred)\n",
        "print(\"RMSE IS \",end=\"\")\n",
        "print(rmse)\n",
        "print(\"R^2 IS \",end=\"\")\n",
        "print(r2)"
      ],
      "execution_count": null,
      "outputs": [
        {
          "output_type": "stream",
          "text": [
            "RMSE IS 0.037454616213898353\n",
            "R^2 IS 0.21564448530499458\n"
          ],
          "name": "stdout"
        }
      ]
    },
    {
      "cell_type": "markdown",
      "metadata": {
        "id": "vnBRzqeubk2T",
        "colab_type": "text"
      },
      "source": [
        "###**INFERENCE**\n",
        "1.    Beta can be referred to as a measure of the sensitivity of stock returns to market returns.\n",
        "2.   A stock with a beta less than one tends to be less volatile.\n",
        "3. A stock with a beta more than one tends to be more volatile.\n",
        "4. Here the beta values are less than one as well as positive so stock is less volatile.\n",
        "5. It means that for every +1% move in the Nifty our portfolio will go up 0.4% in value.[DAILY RETURNS]\n",
        "6. Thus we can conclude that buying the stock is less risky but will offer less returns as well.\n"
      ]
    }
  ]
}
